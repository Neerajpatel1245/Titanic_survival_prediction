{
 "cells": [
  {
   "cell_type": "markdown",
   "id": "168bec33",
   "metadata": {
    "papermill": {
     "duration": 0.104145,
     "end_time": "2021-08-13T13:28:54.636322",
     "exception": false,
     "start_time": "2021-08-13T13:28:54.532177",
     "status": "completed"
    },
    "tags": []
   },
   "source": [
    "# __Titanic Survival Prediction Model__\n",
    "\n"
   ]
  },
  {
   "cell_type": "markdown",
   "id": "8666b6bc",
   "metadata": {
    "papermill": {
     "duration": 0.099087,
     "end_time": "2021-08-13T13:28:56.455416",
     "exception": false,
     "start_time": "2021-08-13T13:28:56.356329",
     "status": "completed"
    },
    "tags": []
   },
   "source": [
    "# __Part 1 - Data Preprocessing__"
   ]
  },
  {
   "cell_type": "code",
   "execution_count": 1,
   "id": "3a2ce089",
   "metadata": {
    "_cell_guid": "b1076dfc-b9ad-4769-8c92-a6c4dae69d19",
    "_uuid": "8f2839f25d086af736a60e9eeb907d3b93b6e0e5",
    "execution": {
     "iopub.execute_input": "2021-08-13T13:29:06.347334Z",
     "iopub.status.busy": "2021-08-13T13:29:06.346682Z",
     "iopub.status.idle": "2021-08-13T13:29:08.863693Z",
     "shell.execute_reply": "2021-08-13T13:29:08.863064Z",
     "shell.execute_reply.started": "2021-08-12T07:27:30.319532Z"
    },
    "papermill": {
     "duration": 2.627181,
     "end_time": "2021-08-13T13:29:08.863837",
     "exception": false,
     "start_time": "2021-08-13T13:29:06.236656",
     "status": "completed"
    },
    "tags": []
   },
   "outputs": [],
   "source": [
    "import warnings\n",
    "warnings.filterwarnings('ignore')\n",
    "\n",
    "# Linear Algebra\n",
    "import numpy as np \n",
    "# Data Processing, CSV file I/O (e.g. pd.read_csv)\n",
    "import pandas as pd\n",
    "# Profiling Report\n",
    "from ydata_profiling import ProfileReport as pp\n",
    " \n",
    "\n",
    "# Data Visualization\n",
    "import seaborn as sns\n",
    "%matplotlib inline\n",
    "from matplotlib import pyplot as plt\n",
    "from matplotlib import style\n",
    "\n",
    "# Algorithms\n",
    "from sklearn import linear_model\n",
    "from sklearn.linear_model import LogisticRegression\n",
    "from sklearn.ensemble import RandomForestClassifier\n",
    "from sklearn.neighbors import KNeighborsClassifier\n",
    "\n",
    "\n"
   ]
  },
  {
   "cell_type": "code",
   "execution_count": 2,
   "id": "3e331e52",
   "metadata": {
    "execution": {
     "iopub.execute_input": "2021-08-13T13:29:09.336547Z",
     "iopub.status.busy": "2021-08-13T13:29:09.335854Z",
     "iopub.status.idle": "2021-08-13T13:29:09.369394Z",
     "shell.execute_reply": "2021-08-13T13:29:09.369924Z",
     "shell.execute_reply.started": "2021-08-12T07:27:31.483454Z"
    },
    "papermill": {
     "duration": 0.160281,
     "end_time": "2021-08-13T13:29:09.370120",
     "exception": false,
     "start_time": "2021-08-13T13:29:09.209839",
     "status": "completed"
    },
    "tags": []
   },
   "outputs": [],
   "source": [
    "train_df = pd.read_csv('F:\\Datasets\\\\titanic_train.csv')\n",
    "test_df = pd.read_csv('F:\\Datasets\\\\titanic_test.csv')"
   ]
  },
  {
   "cell_type": "code",
   "execution_count": 3,
   "id": "153dd9cb",
   "metadata": {
    "execution": {
     "iopub.execute_input": "2021-08-13T13:29:09.812628Z",
     "iopub.status.busy": "2021-08-13T13:29:09.801746Z",
     "iopub.status.idle": "2021-08-13T13:29:09.815977Z",
     "shell.execute_reply": "2021-08-13T13:29:09.816428Z",
     "shell.execute_reply.started": "2021-08-12T07:27:31.505749Z"
    },
    "papermill": {
     "duration": 0.136726,
     "end_time": "2021-08-13T13:29:09.816620",
     "exception": false,
     "start_time": "2021-08-13T13:29:09.679894",
     "status": "completed"
    },
    "tags": []
   },
   "outputs": [
    {
     "name": "stdout",
     "output_type": "stream",
     "text": [
      "<class 'pandas.core.frame.DataFrame'>\n",
      "RangeIndex: 891 entries, 0 to 890\n",
      "Data columns (total 12 columns):\n",
      " #   Column       Non-Null Count  Dtype  \n",
      "---  ------       --------------  -----  \n",
      " 0   PassengerId  891 non-null    int64  \n",
      " 1   Survived     891 non-null    int64  \n",
      " 2   Pclass       891 non-null    int64  \n",
      " 3   Name         891 non-null    object \n",
      " 4   Sex          891 non-null    object \n",
      " 5   Age          714 non-null    float64\n",
      " 6   SibSp        891 non-null    int64  \n",
      " 7   Parch        891 non-null    int64  \n",
      " 8   Ticket       891 non-null    object \n",
      " 9   Fare         891 non-null    float64\n",
      " 10  Cabin        204 non-null    object \n",
      " 11  Embarked     889 non-null    object \n",
      "dtypes: float64(2), int64(5), object(5)\n",
      "memory usage: 83.7+ KB\n"
     ]
    }
   ],
   "source": [
    "train_df.info()"
   ]
  },
  {
   "cell_type": "code",
   "execution_count": 4,
   "id": "7739903f",
   "metadata": {
    "execution": {
     "iopub.execute_input": "2021-08-13T13:29:10.289608Z",
     "iopub.status.busy": "2021-08-13T13:29:10.288900Z",
     "iopub.status.idle": "2021-08-13T13:29:10.324557Z",
     "shell.execute_reply": "2021-08-13T13:29:10.324006Z",
     "shell.execute_reply.started": "2021-08-12T07:27:31.525755Z"
    },
    "papermill": {
     "duration": 0.196156,
     "end_time": "2021-08-13T13:29:10.324700",
     "exception": false,
     "start_time": "2021-08-13T13:29:10.128544",
     "status": "completed"
    },
    "tags": []
   },
   "outputs": [
    {
     "data": {
      "text/html": [
       "<div>\n",
       "<style scoped>\n",
       "    .dataframe tbody tr th:only-of-type {\n",
       "        vertical-align: middle;\n",
       "    }\n",
       "\n",
       "    .dataframe tbody tr th {\n",
       "        vertical-align: top;\n",
       "    }\n",
       "\n",
       "    .dataframe thead th {\n",
       "        text-align: right;\n",
       "    }\n",
       "</style>\n",
       "<table border=\"1\" class=\"dataframe\">\n",
       "  <thead>\n",
       "    <tr style=\"text-align: right;\">\n",
       "      <th></th>\n",
       "      <th>PassengerId</th>\n",
       "      <th>Survived</th>\n",
       "      <th>Pclass</th>\n",
       "      <th>Age</th>\n",
       "      <th>SibSp</th>\n",
       "      <th>Parch</th>\n",
       "      <th>Fare</th>\n",
       "    </tr>\n",
       "  </thead>\n",
       "  <tbody>\n",
       "    <tr>\n",
       "      <th>count</th>\n",
       "      <td>891.000000</td>\n",
       "      <td>891.000000</td>\n",
       "      <td>891.000000</td>\n",
       "      <td>714.000000</td>\n",
       "      <td>891.000000</td>\n",
       "      <td>891.000000</td>\n",
       "      <td>891.000000</td>\n",
       "    </tr>\n",
       "    <tr>\n",
       "      <th>mean</th>\n",
       "      <td>446.000000</td>\n",
       "      <td>0.383838</td>\n",
       "      <td>2.308642</td>\n",
       "      <td>29.699118</td>\n",
       "      <td>0.523008</td>\n",
       "      <td>0.381594</td>\n",
       "      <td>32.204208</td>\n",
       "    </tr>\n",
       "    <tr>\n",
       "      <th>std</th>\n",
       "      <td>257.353842</td>\n",
       "      <td>0.486592</td>\n",
       "      <td>0.836071</td>\n",
       "      <td>14.526497</td>\n",
       "      <td>1.102743</td>\n",
       "      <td>0.806057</td>\n",
       "      <td>49.693429</td>\n",
       "    </tr>\n",
       "    <tr>\n",
       "      <th>min</th>\n",
       "      <td>1.000000</td>\n",
       "      <td>0.000000</td>\n",
       "      <td>1.000000</td>\n",
       "      <td>0.420000</td>\n",
       "      <td>0.000000</td>\n",
       "      <td>0.000000</td>\n",
       "      <td>0.000000</td>\n",
       "    </tr>\n",
       "    <tr>\n",
       "      <th>25%</th>\n",
       "      <td>223.500000</td>\n",
       "      <td>0.000000</td>\n",
       "      <td>2.000000</td>\n",
       "      <td>20.125000</td>\n",
       "      <td>0.000000</td>\n",
       "      <td>0.000000</td>\n",
       "      <td>7.910400</td>\n",
       "    </tr>\n",
       "    <tr>\n",
       "      <th>50%</th>\n",
       "      <td>446.000000</td>\n",
       "      <td>0.000000</td>\n",
       "      <td>3.000000</td>\n",
       "      <td>28.000000</td>\n",
       "      <td>0.000000</td>\n",
       "      <td>0.000000</td>\n",
       "      <td>14.454200</td>\n",
       "    </tr>\n",
       "    <tr>\n",
       "      <th>75%</th>\n",
       "      <td>668.500000</td>\n",
       "      <td>1.000000</td>\n",
       "      <td>3.000000</td>\n",
       "      <td>38.000000</td>\n",
       "      <td>1.000000</td>\n",
       "      <td>0.000000</td>\n",
       "      <td>31.000000</td>\n",
       "    </tr>\n",
       "    <tr>\n",
       "      <th>max</th>\n",
       "      <td>891.000000</td>\n",
       "      <td>1.000000</td>\n",
       "      <td>3.000000</td>\n",
       "      <td>80.000000</td>\n",
       "      <td>8.000000</td>\n",
       "      <td>6.000000</td>\n",
       "      <td>512.329200</td>\n",
       "    </tr>\n",
       "  </tbody>\n",
       "</table>\n",
       "</div>"
      ],
      "text/plain": [
       "       PassengerId    Survived      Pclass         Age       SibSp  \\\n",
       "count   891.000000  891.000000  891.000000  714.000000  891.000000   \n",
       "mean    446.000000    0.383838    2.308642   29.699118    0.523008   \n",
       "std     257.353842    0.486592    0.836071   14.526497    1.102743   \n",
       "min       1.000000    0.000000    1.000000    0.420000    0.000000   \n",
       "25%     223.500000    0.000000    2.000000   20.125000    0.000000   \n",
       "50%     446.000000    0.000000    3.000000   28.000000    0.000000   \n",
       "75%     668.500000    1.000000    3.000000   38.000000    1.000000   \n",
       "max     891.000000    1.000000    3.000000   80.000000    8.000000   \n",
       "\n",
       "            Parch        Fare  \n",
       "count  891.000000  891.000000  \n",
       "mean     0.381594   32.204208  \n",
       "std      0.806057   49.693429  \n",
       "min      0.000000    0.000000  \n",
       "25%      0.000000    7.910400  \n",
       "50%      0.000000   14.454200  \n",
       "75%      0.000000   31.000000  \n",
       "max      6.000000  512.329200  "
      ]
     },
     "execution_count": 4,
     "metadata": {},
     "output_type": "execute_result"
    }
   ],
   "source": [
    "train_df.describe()"
   ]
  },
  {
   "cell_type": "code",
   "execution_count": 5,
   "id": "bc09830b",
   "metadata": {
    "execution": {
     "iopub.execute_input": "2021-08-13T13:29:32.029257Z",
     "iopub.status.busy": "2021-08-13T13:29:32.026959Z",
     "iopub.status.idle": "2021-08-13T13:29:32.041162Z",
     "shell.execute_reply": "2021-08-13T13:29:32.041673Z",
     "shell.execute_reply.started": "2021-08-12T07:27:50.92147Z"
    },
    "papermill": {
     "duration": 0.271074,
     "end_time": "2021-08-13T13:29:32.041847",
     "exception": false,
     "start_time": "2021-08-13T13:29:31.770773",
     "status": "completed"
    },
    "tags": []
   },
   "outputs": [
    {
     "data": {
      "text/html": [
       "<div>\n",
       "<style scoped>\n",
       "    .dataframe tbody tr th:only-of-type {\n",
       "        vertical-align: middle;\n",
       "    }\n",
       "\n",
       "    .dataframe tbody tr th {\n",
       "        vertical-align: top;\n",
       "    }\n",
       "\n",
       "    .dataframe thead th {\n",
       "        text-align: right;\n",
       "    }\n",
       "</style>\n",
       "<table border=\"1\" class=\"dataframe\">\n",
       "  <thead>\n",
       "    <tr style=\"text-align: right;\">\n",
       "      <th></th>\n",
       "      <th>Total</th>\n",
       "      <th>%</th>\n",
       "    </tr>\n",
       "  </thead>\n",
       "  <tbody>\n",
       "    <tr>\n",
       "      <th>Cabin</th>\n",
       "      <td>687</td>\n",
       "      <td>77.1</td>\n",
       "    </tr>\n",
       "    <tr>\n",
       "      <th>Age</th>\n",
       "      <td>177</td>\n",
       "      <td>19.9</td>\n",
       "    </tr>\n",
       "    <tr>\n",
       "      <th>Embarked</th>\n",
       "      <td>2</td>\n",
       "      <td>0.2</td>\n",
       "    </tr>\n",
       "    <tr>\n",
       "      <th>PassengerId</th>\n",
       "      <td>0</td>\n",
       "      <td>0.0</td>\n",
       "    </tr>\n",
       "    <tr>\n",
       "      <th>Survived</th>\n",
       "      <td>0</td>\n",
       "      <td>0.0</td>\n",
       "    </tr>\n",
       "  </tbody>\n",
       "</table>\n",
       "</div>"
      ],
      "text/plain": [
       "             Total     %\n",
       "Cabin          687  77.1\n",
       "Age            177  19.9\n",
       "Embarked         2   0.2\n",
       "PassengerId      0   0.0\n",
       "Survived         0   0.0"
      ]
     },
     "execution_count": 5,
     "metadata": {},
     "output_type": "execute_result"
    }
   ],
   "source": [
    "total = train_df.isnull().sum().sort_values(ascending=False)\n",
    "percent_1 = train_df.isnull().sum()/train_df.isnull().count()*100\n",
    "percent_2 = (round(percent_1, 1)).sort_values(ascending=False)\n",
    "missing_data = pd.concat([total, percent_2], axis=1, keys=['Total', '%'])\n",
    "missing_data.head(5)"
   ]
  },
  {
   "cell_type": "code",
   "execution_count": 6,
   "id": "db0ec2aa",
   "metadata": {
    "execution": {
     "iopub.execute_input": "2021-08-13T13:29:34.052166Z",
     "iopub.status.busy": "2021-08-13T13:29:34.028550Z",
     "iopub.status.idle": "2021-08-13T13:29:34.692799Z",
     "shell.execute_reply": "2021-08-13T13:29:34.693289Z",
     "shell.execute_reply.started": "2021-08-12T07:27:50.951938Z"
    },
    "papermill": {
     "duration": 0.915747,
     "end_time": "2021-08-13T13:29:34.693452",
     "exception": false,
     "start_time": "2021-08-13T13:29:33.777705",
     "status": "completed"
    },
    "tags": []
   },
   "outputs": [
    {
     "data": {
      "text/plain": [
       "Text(0.5, 1.0, 'Male')"
      ]
     },
     "execution_count": 6,
     "metadata": {},
     "output_type": "execute_result"
    },
    {
     "data": {
      "image/png": "[encoded data removed]",
      "text/plain": [
       "<Figure size 1000x400 with 2 Axes>"
      ]
     },
     "metadata": {},
     "output_type": "display_data"
    }
   ],
   "source": [
    "survived = 'survived'\n",
    "not_survived = 'not survived'\n",
    "fig, axes = plt.subplots(nrows=1, ncols=2, figsize=(10,4))\n",
    "women = train_df[train_df['Sex'] == 'female']\n",
    "men = train_df[train_df['Sex'] == 'male']\n",
    "ax = sns.distplot(women[women['Survived'] == 1].Age.dropna(), bins= 18, label= survived, ax= axes[0], kde= False)\n",
    "ax.legend()\n",
    "ax = sns.distplot(women[women['Survived'] == 0].Age.dropna(), bins= 40, label= not_survived, ax= axes[0], kde= False)\n",
    "ax.legend()\n",
    "ax.set_title('Female')\n",
    "ax = sns.distplot(men[men['Survived'] == 1].Age.dropna(), bins= 18, label= survived, ax= axes[1], kde= False)\n",
    "ax.legend()\n",
    "ax = sns.distplot(men[men['Survived'] == 0].Age.dropna(), bins= 40, label= not_survived, ax= axes[1], kde= False)\n",
    "ax.legend()\n",
    "ax.set_title('Male')"
   ]
  },
  {
   "cell_type": "code",
   "execution_count": 7,
   "id": "11728e27",
   "metadata": {
    "execution": {
     "iopub.execute_input": "2021-08-13T13:29:36.214736Z",
     "iopub.status.busy": "2021-08-13T13:29:36.213996Z",
     "iopub.status.idle": "2021-08-13T13:29:37.629181Z",
     "shell.execute_reply": "2021-08-13T13:29:37.629706Z",
     "shell.execute_reply.started": "2021-08-12T07:27:51.711134Z"
    },
    "papermill": {
     "duration": 1.673246,
     "end_time": "2021-08-13T13:29:37.629884",
     "exception": false,
     "start_time": "2021-08-13T13:29:35.956638",
     "status": "completed"
    },
    "tags": []
   },
   "outputs": [
    {
     "data": {
      "text/plain": [
       "<seaborn.axisgrid.FacetGrid at 0x2caacb019d0>"
      ]
     },
     "execution_count": 7,
     "metadata": {},
     "output_type": "execute_result"
    },
    {
     "data": {
      "image/png": "[encoded data removed]",
      "text/plain": [
       "<Figure size 818x1350 with 3 Axes>"
      ]
     },
     "metadata": {},
     "output_type": "display_data"
    }
   ],
   "source": [
    "FacetGrid = sns.FacetGrid(train_df, row='Embarked', height=4.5, aspect=1.6)\n",
    "FacetGrid.map(sns.pointplot, 'Pclass', 'Survived', 'Sex', palette=None,  order=None, hue_order=None )\n",
    "FacetGrid.add_legend()"
   ]
  },
  {
   "cell_type": "code",
   "execution_count": 8,
   "id": "e34dc7eb",
   "metadata": {
    "execution": {
     "iopub.execute_input": "2021-08-13T13:29:39.153678Z",
     "iopub.status.busy": "2021-08-13T13:29:39.152786Z",
     "iopub.status.idle": "2021-08-13T13:29:39.403881Z",
     "shell.execute_reply": "2021-08-13T13:29:39.404436Z",
     "shell.execute_reply.started": "2021-08-12T07:27:53.307536Z"
    },
    "papermill": {
     "duration": 0.510061,
     "end_time": "2021-08-13T13:29:39.404634",
     "exception": false,
     "start_time": "2021-08-13T13:29:38.894573",
     "status": "completed"
    },
    "tags": []
   },
   "outputs": [
    {
     "data": {
      "text/plain": [
       "<Axes: xlabel='Pclass', ylabel='Survived'>"
      ]
     },
     "execution_count": 8,
     "metadata": {},
     "output_type": "execute_result"
    },
    {
     "data": {
      "image/png": "[encoded data removed]",
      "text/plain": [
       "<Figure size 640x480 with 1 Axes>"
      ]
     },
     "metadata": {},
     "output_type": "display_data"
    }
   ],
   "source": [
    "sns.barplot(x='Pclass', y='Survived', data=train_df)"
   ]
  },
  {
   "cell_type": "code",
   "execution_count": 9,
   "id": "e9230fc7",
   "metadata": {
    "execution": {
     "iopub.execute_input": "2021-08-13T13:29:40.458640Z",
     "iopub.status.busy": "2021-08-13T13:29:40.457527Z",
     "iopub.status.idle": "2021-08-13T13:29:42.376642Z",
     "shell.execute_reply": "2021-08-13T13:29:42.376119Z",
     "shell.execute_reply.started": "2021-08-12T07:27:53.587671Z"
    },
    "papermill": {
     "duration": 2.181136,
     "end_time": "2021-08-13T13:29:42.376790",
     "exception": false,
     "start_time": "2021-08-13T13:29:40.195654",
     "status": "completed"
    },
    "tags": []
   },
   "outputs": [
    {
     "data": {
      "image/png": "[encoded data removed]",
      "text/plain": [
       "<Figure size 715.111x660 with 6 Axes>"
      ]
     },
     "metadata": {},
     "output_type": "display_data"
    }
   ],
   "source": [
    "grid = sns.FacetGrid(train_df, col='Survived', row='Pclass', height=2.2, aspect=1.6)\n",
    "grid.map(plt.hist, 'Age', alpha=.5, bins=20)\n",
    "grid.add_legend();"
   ]
  },
  {
   "cell_type": "code",
   "execution_count": 10,
   "id": "1d55846f",
   "metadata": {
    "execution": {
     "iopub.execute_input": "2021-08-13T13:29:44.417629Z",
     "iopub.status.busy": "2021-08-13T13:29:44.416941Z",
     "iopub.status.idle": "2021-08-13T13:29:44.427030Z",
     "shell.execute_reply": "2021-08-13T13:29:44.427532Z",
     "shell.execute_reply.started": "2021-08-12T07:27:55.657646Z"
    },
    "papermill": {
     "duration": 0.271577,
     "end_time": "2021-08-13T13:29:44.427720",
     "exception": false,
     "start_time": "2021-08-13T13:29:44.156143",
     "status": "completed"
    },
    "tags": []
   },
   "outputs": [
    {
     "data": {
      "text/plain": [
       "not_alone\n",
       "1    537\n",
       "0    354\n",
       "Name: count, dtype: int64"
      ]
     },
     "execution_count": 10,
     "metadata": {},
     "output_type": "execute_result"
    }
   ],
   "source": [
    "data = [train_df, test_df]\n",
    "for dataset in data:\n",
    "    dataset['relatives'] = dataset['SibSp'] + dataset['Parch']\n",
    "    dataset.loc[dataset['relatives'] > 0, 'not_alone'] = 0\n",
    "    dataset.loc[dataset['relatives'] == 0, 'not_alone'] = 1\n",
    "    dataset['not_alone'] = dataset['not_alone'].astype(int)\n",
    "    # print(dataset)\n",
    "    \n",
    "train_df['not_alone'].value_counts()\n"
   ]
  },
  {
   "cell_type": "code",
   "execution_count": 11,
   "id": "87ac30c1",
   "metadata": {
    "execution": {
     "iopub.execute_input": "2021-08-13T13:29:44.934042Z",
     "iopub.status.busy": "2021-08-13T13:29:44.933362Z",
     "iopub.status.idle": "2021-08-13T13:29:45.517172Z",
     "shell.execute_reply": "2021-08-13T13:29:45.517694Z",
     "shell.execute_reply.started": "2021-08-12T07:27:55.679452Z"
    },
    "papermill": {
     "duration": 0.840036,
     "end_time": "2021-08-13T13:29:45.517864",
     "exception": false,
     "start_time": "2021-08-13T13:29:44.677828",
     "status": "completed"
    },
    "tags": []
   },
   "outputs": [
    {
     "data": {
      "image/png": "[encoded data removed]",
      "text/plain": [
       "<Figure size 1250x500 with 1 Axes>"
      ]
     },
     "metadata": {},
     "output_type": "display_data"
    }
   ],
   "source": [
    "axes = sns.catplot(x='relatives', y='Survived', data=train_df, aspect=2.5)"
   ]
  },
  {
   "cell_type": "code",
   "execution_count": 12,
   "id": "587546f9",
   "metadata": {
    "execution": {
     "iopub.execute_input": "2021-08-13T13:29:47.554475Z",
     "iopub.status.busy": "2021-08-13T13:29:47.553723Z",
     "iopub.status.idle": "2021-08-13T13:29:47.558456Z",
     "shell.execute_reply": "2021-08-13T13:29:47.558984Z",
     "shell.execute_reply.started": "2021-08-12T07:27:56.325608Z"
    },
    "papermill": {
     "duration": 0.260946,
     "end_time": "2021-08-13T13:29:47.559149",
     "exception": false,
     "start_time": "2021-08-13T13:29:47.298203",
     "status": "completed"
    },
    "tags": []
   },
   "outputs": [],
   "source": [
    "train_df = train_df.drop(['PassengerId'], axis=1)"
   ]
  },
  {
   "cell_type": "code",
   "execution_count": 13,
   "id": "be0c1646",
   "metadata": {
    "execution": {
     "iopub.execute_input": "2021-08-13T13:29:49.637251Z",
     "iopub.status.busy": "2021-08-13T13:29:49.636215Z",
     "iopub.status.idle": "2021-08-13T13:29:49.642362Z",
     "shell.execute_reply": "2021-08-13T13:29:49.641727Z",
     "shell.execute_reply.started": "2021-08-12T07:27:56.333855Z"
    },
    "papermill": {
     "duration": 0.281021,
     "end_time": "2021-08-13T13:29:49.642497",
     "exception": false,
     "start_time": "2021-08-13T13:29:49.361476",
     "status": "completed"
    },
    "tags": []
   },
   "outputs": [],
   "source": [
    "import re\n",
    "deck = {\"A\": 1, \"B\": 2, \"C\": 3, \"D\": 4, \"E\": 5, \"F\": 6, \"G\": 7, \"U\": 8}\n",
    "\n",
    "data = [train_df, test_df]\n",
    "\n",
    "for dataset in data:\n",
    "    dataset['Cabin'] = dataset['Cabin'].fillna(\"U0\")\n",
    "    dataset['Deck'] = dataset['Cabin'].map(lambda x: re.compile(\"([a-zA-Z]+)\").search(x).group())\n",
    "    dataset['Deck'] = dataset['Deck'].map(deck)\n",
    "    dataset['Deck'] = dataset['Deck'].fillna(0)\n",
    "    dataset['Deck'] = dataset['Deck'].astype(int)\n",
    "    \n",
    "# We can now drop the cabin feature\n",
    "train_df = train_df.drop(['Cabin'], axis=1)\n",
    "test_df = test_df.drop(['Cabin'], axis=1)"
   ]
  },
  {
   "cell_type": "code",
   "execution_count": 14,
   "id": "5dfe574d",
   "metadata": {
    "execution": {
     "iopub.execute_input": "2021-08-13T13:29:50.155108Z",
     "iopub.status.busy": "2021-08-13T13:29:50.154299Z",
     "iopub.status.idle": "2021-08-13T13:29:50.180165Z",
     "shell.execute_reply": "2021-08-13T13:29:50.179669Z",
     "shell.execute_reply.started": "2021-08-12T07:27:56.365513Z"
    },
    "papermill": {
     "duration": 0.285414,
     "end_time": "2021-08-13T13:29:50.180305",
     "exception": false,
     "start_time": "2021-08-13T13:29:49.894891",
     "status": "completed"
    },
    "tags": []
   },
   "outputs": [
    {
     "data": {
      "text/html": [
       "<div>\n",
       "<style scoped>\n",
       "    .dataframe tbody tr th:only-of-type {\n",
       "        vertical-align: middle;\n",
       "    }\n",
       "\n",
       "    .dataframe tbody tr th {\n",
       "        vertical-align: top;\n",
       "    }\n",
       "\n",
       "    .dataframe thead th {\n",
       "        text-align: right;\n",
       "    }\n",
       "</style>\n",
       "<table border=\"1\" class=\"dataframe\">\n",
       "  <thead>\n",
       "    <tr style=\"text-align: right;\">\n",
       "      <th></th>\n",
       "      <th>Survived</th>\n",
       "      <th>Pclass</th>\n",
       "      <th>Name</th>\n",
       "      <th>Sex</th>\n",
       "      <th>Age</th>\n",
       "      <th>SibSp</th>\n",
       "      <th>Parch</th>\n",
       "      <th>Ticket</th>\n",
       "      <th>Fare</th>\n",
       "      <th>Embarked</th>\n",
       "      <th>relatives</th>\n",
       "      <th>not_alone</th>\n",
       "      <th>Deck</th>\n",
       "    </tr>\n",
       "  </thead>\n",
       "  <tbody>\n",
       "    <tr>\n",
       "      <th>0</th>\n",
       "      <td>0</td>\n",
       "      <td>3</td>\n",
       "      <td>Braund, Mr. Owen Harris</td>\n",
       "      <td>male</td>\n",
       "      <td>22.0</td>\n",
       "      <td>1</td>\n",
       "      <td>0</td>\n",
       "      <td>A/5 21171</td>\n",
       "      <td>7.2500</td>\n",
       "      <td>S</td>\n",
       "      <td>1</td>\n",
       "      <td>0</td>\n",
       "      <td>8</td>\n",
       "    </tr>\n",
       "    <tr>\n",
       "      <th>1</th>\n",
       "      <td>1</td>\n",
       "      <td>1</td>\n",
       "      <td>Cumings, Mrs. John Bradley (Florence Briggs Th...</td>\n",
       "      <td>female</td>\n",
       "      <td>38.0</td>\n",
       "      <td>1</td>\n",
       "      <td>0</td>\n",
       "      <td>PC 17599</td>\n",
       "      <td>71.2833</td>\n",
       "      <td>C</td>\n",
       "      <td>1</td>\n",
       "      <td>0</td>\n",
       "      <td>3</td>\n",
       "    </tr>\n",
       "    <tr>\n",
       "      <th>2</th>\n",
       "      <td>1</td>\n",
       "      <td>3</td>\n",
       "      <td>Heikkinen, Miss. Laina</td>\n",
       "      <td>female</td>\n",
       "      <td>26.0</td>\n",
       "      <td>0</td>\n",
       "      <td>0</td>\n",
       "      <td>STON/O2. 3101282</td>\n",
       "      <td>7.9250</td>\n",
       "      <td>S</td>\n",
       "      <td>0</td>\n",
       "      <td>1</td>\n",
       "      <td>8</td>\n",
       "    </tr>\n",
       "    <tr>\n",
       "      <th>3</th>\n",
       "      <td>1</td>\n",
       "      <td>1</td>\n",
       "      <td>Futrelle, Mrs. Jacques Heath (Lily May Peel)</td>\n",
       "      <td>female</td>\n",
       "      <td>35.0</td>\n",
       "      <td>1</td>\n",
       "      <td>0</td>\n",
       "      <td>113803</td>\n",
       "      <td>53.1000</td>\n",
       "      <td>S</td>\n",
       "      <td>1</td>\n",
       "      <td>0</td>\n",
       "      <td>3</td>\n",
       "    </tr>\n",
       "    <tr>\n",
       "      <th>4</th>\n",
       "      <td>0</td>\n",
       "      <td>3</td>\n",
       "      <td>Allen, Mr. William Henry</td>\n",
       "      <td>male</td>\n",
       "      <td>35.0</td>\n",
       "      <td>0</td>\n",
       "      <td>0</td>\n",
       "      <td>373450</td>\n",
       "      <td>8.0500</td>\n",
       "      <td>S</td>\n",
       "      <td>0</td>\n",
       "      <td>1</td>\n",
       "      <td>8</td>\n",
       "    </tr>\n",
       "    <tr>\n",
       "      <th>...</th>\n",
       "      <td>...</td>\n",
       "      <td>...</td>\n",
       "      <td>...</td>\n",
       "      <td>...</td>\n",
       "      <td>...</td>\n",
       "      <td>...</td>\n",
       "      <td>...</td>\n",
       "      <td>...</td>\n",
       "      <td>...</td>\n",
       "      <td>...</td>\n",
       "      <td>...</td>\n",
       "      <td>...</td>\n",
       "      <td>...</td>\n",
       "    </tr>\n",
       "    <tr>\n",
       "      <th>886</th>\n",
       "      <td>0</td>\n",
       "      <td>2</td>\n",
       "      <td>Montvila, Rev. Juozas</td>\n",
       "      <td>male</td>\n",
       "      <td>27.0</td>\n",
       "      <td>0</td>\n",
       "      <td>0</td>\n",
       "      <td>211536</td>\n",
       "      <td>13.0000</td>\n",
       "      <td>S</td>\n",
       "      <td>0</td>\n",
       "      <td>1</td>\n",
       "      <td>8</td>\n",
       "    </tr>\n",
       "    <tr>\n",
       "      <th>887</th>\n",
       "      <td>1</td>\n",
       "      <td>1</td>\n",
       "      <td>Graham, Miss. Margaret Edith</td>\n",
       "      <td>female</td>\n",
       "      <td>19.0</td>\n",
       "      <td>0</td>\n",
       "      <td>0</td>\n",
       "      <td>112053</td>\n",
       "      <td>30.0000</td>\n",
       "      <td>S</td>\n",
       "      <td>0</td>\n",
       "      <td>1</td>\n",
       "      <td>2</td>\n",
       "    </tr>\n",
       "    <tr>\n",
       "      <th>888</th>\n",
       "      <td>0</td>\n",
       "      <td>3</td>\n",
       "      <td>Johnston, Miss. Catherine Helen \"Carrie\"</td>\n",
       "      <td>female</td>\n",
       "      <td>NaN</td>\n",
       "      <td>1</td>\n",
       "      <td>2</td>\n",
       "      <td>W./C. 6607</td>\n",
       "      <td>23.4500</td>\n",
       "      <td>S</td>\n",
       "      <td>3</td>\n",
       "      <td>0</td>\n",
       "      <td>8</td>\n",
       "    </tr>\n",
       "    <tr>\n",
       "      <th>889</th>\n",
       "      <td>1</td>\n",
       "      <td>1</td>\n",
       "      <td>Behr, Mr. Karl Howell</td>\n",
       "      <td>male</td>\n",
       "      <td>26.0</td>\n",
       "      <td>0</td>\n",
       "      <td>0</td>\n",
       "      <td>111369</td>\n",
       "      <td>30.0000</td>\n",
       "      <td>C</td>\n",
       "      <td>0</td>\n",
       "      <td>1</td>\n",
       "      <td>3</td>\n",
       "    </tr>\n",
       "    <tr>\n",
       "      <th>890</th>\n",
       "      <td>0</td>\n",
       "      <td>3</td>\n",
       "      <td>Dooley, Mr. Patrick</td>\n",
       "      <td>male</td>\n",
       "      <td>32.0</td>\n",
       "      <td>0</td>\n",
       "      <td>0</td>\n",
       "      <td>370376</td>\n",
       "      <td>7.7500</td>\n",
       "      <td>Q</td>\n",
       "      <td>0</td>\n",
       "      <td>1</td>\n",
       "      <td>8</td>\n",
       "    </tr>\n",
       "  </tbody>\n",
       "</table>\n",
       "<p>891 rows × 13 columns</p>\n",
       "</div>"
      ],
      "text/plain": [
       "     Survived  Pclass                                               Name  \\\n",
       "0           0       3                            Braund, Mr. Owen Harris   \n",
       "1           1       1  Cumings, Mrs. John Bradley (Florence Briggs Th...   \n",
       "2           1       3                             Heikkinen, Miss. Laina   \n",
       "3           1       1       Futrelle, Mrs. Jacques Heath (Lily May Peel)   \n",
       "4           0       3                           Allen, Mr. William Henry   \n",
       "..        ...     ...                                                ...   \n",
       "886         0       2                              Montvila, Rev. Juozas   \n",
       "887         1       1                       Graham, Miss. Margaret Edith   \n",
       "888         0       3           Johnston, Miss. Catherine Helen \"Carrie\"   \n",
       "889         1       1                              Behr, Mr. Karl Howell   \n",
       "890         0       3                                Dooley, Mr. Patrick   \n",
       "\n",
       "        Sex   Age  SibSp  Parch            Ticket     Fare Embarked  \\\n",
       "0      male  22.0      1      0         A/5 21171   7.2500        S   \n",
       "1    female  38.0      1      0          PC 17599  71.2833        C   \n",
       "2    female  26.0      0      0  STON/O2. 3101282   7.9250        S   \n",
       "3    female  35.0      1      0            113803  53.1000        S   \n",
       "4      male  35.0      0      0            373450   8.0500        S   \n",
       "..      ...   ...    ...    ...               ...      ...      ...   \n",
       "886    male  27.0      0      0            211536  13.0000        S   \n",
       "887  female  19.0      0      0            112053  30.0000        S   \n",
       "888  female   NaN      1      2        W./C. 6607  23.4500        S   \n",
       "889    male  26.0      0      0            111369  30.0000        C   \n",
       "890    male  32.0      0      0            370376   7.7500        Q   \n",
       "\n",
       "     relatives  not_alone  Deck  \n",
       "0            1          0     8  \n",
       "1            1          0     3  \n",
       "2            0          1     8  \n",
       "3            1          0     3  \n",
       "4            0          1     8  \n",
       "..         ...        ...   ...  \n",
       "886          0          1     8  \n",
       "887          0          1     2  \n",
       "888          3          0     8  \n",
       "889          0          1     3  \n",
       "890          0          1     8  \n",
       "\n",
       "[891 rows x 13 columns]"
      ]
     },
     "execution_count": 14,
     "metadata": {},
     "output_type": "execute_result"
    }
   ],
   "source": [
    "train_df"
   ]
  },
  {
   "cell_type": "code",
   "execution_count": 15,
   "id": "5de72dc1",
   "metadata": {
    "execution": {
     "iopub.execute_input": "2021-08-13T13:29:51.245346Z",
     "iopub.status.busy": "2021-08-13T13:29:51.244383Z",
     "iopub.status.idle": "2021-08-13T13:29:51.247838Z",
     "shell.execute_reply": "2021-08-13T13:29:51.248348Z",
     "shell.execute_reply.started": "2021-08-12T07:27:56.405057Z"
    },
    "papermill": {
     "duration": 0.299738,
     "end_time": "2021-08-13T13:29:51.248533",
     "exception": false,
     "start_time": "2021-08-13T13:29:50.948795",
     "status": "completed"
    },
    "tags": []
   },
   "outputs": [
    {
     "data": {
      "text/plain": [
       "0"
      ]
     },
     "execution_count": 15,
     "metadata": {},
     "output_type": "execute_result"
    }
   ],
   "source": [
    "data = [train_df, test_df]\n",
    "\n",
    "for dataset in data:\n",
    "    mean = train_df['Age'].mean()\n",
    "    std = test_df['Age'].std()\n",
    "    is_null = dataset['Age'].isnull().sum()\n",
    "    # Compute random number between mean , std and is_null\n",
    "    rand_age = np.random.randint(mean - std, mean + std, is_null)\n",
    "    age_slice = dataset['Age'].copy()\n",
    "    age_slice[np.isnan(age_slice)] = rand_age\n",
    "    dataset['Age'] = age_slice\n",
    "    dataset['Age'] = dataset['Age'].astype(int)\n",
    "    \n",
    "train_df['Age'].isnull().sum()\n",
    "test_df['Age'].isnull().sum()"
   ]
  },
  {
   "cell_type": "code",
   "execution_count": 16,
   "id": "b00b5bf8",
   "metadata": {
    "execution": {
     "iopub.execute_input": "2021-08-13T13:29:52.265024Z",
     "iopub.status.busy": "2021-08-13T13:29:52.264004Z",
     "iopub.status.idle": "2021-08-13T13:29:52.273255Z",
     "shell.execute_reply": "2021-08-13T13:29:52.273824Z",
     "shell.execute_reply.started": "2021-08-12T07:27:56.429775Z"
    },
    "papermill": {
     "duration": 0.267467,
     "end_time": "2021-08-13T13:29:52.273990",
     "exception": false,
     "start_time": "2021-08-13T13:29:52.006523",
     "status": "completed"
    },
    "tags": []
   },
   "outputs": [
    {
     "data": {
      "text/plain": [
       "count     889\n",
       "unique      3\n",
       "top         S\n",
       "freq      644\n",
       "Name: Embarked, dtype: object"
      ]
     },
     "execution_count": 16,
     "metadata": {},
     "output_type": "execute_result"
    }
   ],
   "source": [
    "train_df['Embarked'].describe()"
   ]
  },
  {
   "cell_type": "code",
   "execution_count": 17,
   "id": "698aa68d",
   "metadata": {
    "execution": {
     "iopub.execute_input": "2021-08-13T13:29:52.783616Z",
     "iopub.status.busy": "2021-08-13T13:29:52.782622Z",
     "iopub.status.idle": "2021-08-13T13:29:52.791476Z",
     "shell.execute_reply": "2021-08-13T13:29:52.792044Z",
     "shell.execute_reply.started": "2021-08-12T07:27:56.443285Z"
    },
    "papermill": {
     "duration": 0.265382,
     "end_time": "2021-08-13T13:29:52.792209",
     "exception": false,
     "start_time": "2021-08-13T13:29:52.526827",
     "status": "completed"
    },
    "tags": []
   },
   "outputs": [
    {
     "data": {
      "text/plain": [
       "0"
      ]
     },
     "execution_count": 17,
     "metadata": {},
     "output_type": "execute_result"
    }
   ],
   "source": [
    "common_value = 'S'\n",
    "data = [train_df, test_df]\n",
    "\n",
    "for dataset in data:\n",
    "    dataset['Embarked'] = dataset['Embarked'].fillna(common_value)\n",
    "    \n",
    "train_df['Embarked'].isnull().sum()"
   ]
  },
  {
   "cell_type": "code",
   "execution_count": 18,
   "id": "e539fe4a",
   "metadata": {
    "execution": {
     "iopub.execute_input": "2021-08-13T13:29:53.861324Z",
     "iopub.status.busy": "2021-08-13T13:29:53.860550Z",
     "iopub.status.idle": "2021-08-13T13:29:53.864222Z",
     "shell.execute_reply": "2021-08-13T13:29:53.864847Z",
     "shell.execute_reply.started": "2021-08-12T07:27:56.461605Z"
    },
    "papermill": {
     "duration": 0.27229,
     "end_time": "2021-08-13T13:29:53.865019",
     "exception": false,
     "start_time": "2021-08-13T13:29:53.592729",
     "status": "completed"
    },
    "tags": []
   },
   "outputs": [
    {
     "name": "stdout",
     "output_type": "stream",
     "text": [
      "<class 'pandas.core.frame.DataFrame'>\n",
      "RangeIndex: 891 entries, 0 to 890\n",
      "Data columns (total 13 columns):\n",
      " #   Column     Non-Null Count  Dtype  \n",
      "---  ------     --------------  -----  \n",
      " 0   Survived   891 non-null    int64  \n",
      " 1   Pclass     891 non-null    int64  \n",
      " 2   Name       891 non-null    object \n",
      " 3   Sex        891 non-null    object \n",
      " 4   Age        891 non-null    int32  \n",
      " 5   SibSp      891 non-null    int64  \n",
      " 6   Parch      891 non-null    int64  \n",
      " 7   Ticket     891 non-null    object \n",
      " 8   Fare       891 non-null    float64\n",
      " 9   Embarked   891 non-null    object \n",
      " 10  relatives  891 non-null    int64  \n",
      " 11  not_alone  891 non-null    int32  \n",
      " 12  Deck       891 non-null    int32  \n",
      "dtypes: float64(1), int32(3), int64(5), object(4)\n",
      "memory usage: 80.2+ KB\n"
     ]
    }
   ],
   "source": [
    "train_df.info()"
   ]
  },
  {
   "cell_type": "code",
   "execution_count": 19,
   "id": "f07ddc7c",
   "metadata": {
    "execution": {
     "iopub.execute_input": "2021-08-13T13:29:55.908380Z",
     "iopub.status.busy": "2021-08-13T13:29:55.907347Z",
     "iopub.status.idle": "2021-08-13T13:29:55.909947Z",
     "shell.execute_reply": "2021-08-13T13:29:55.910437Z",
     "shell.execute_reply.started": "2021-08-12T07:27:56.486693Z"
    },
    "papermill": {
     "duration": 0.264496,
     "end_time": "2021-08-13T13:29:55.910621",
     "exception": false,
     "start_time": "2021-08-13T13:29:55.646125",
     "status": "completed"
    },
    "tags": []
   },
   "outputs": [],
   "source": [
    "data = [train_df, test_df]\n",
    "\n",
    "for dataset in data:\n",
    "    dataset['Fare'] = dataset['Fare'].fillna(0)\n",
    "    dataset['Fare'] = dataset['Fare'].astype(int)"
   ]
  },
  {
   "cell_type": "code",
   "execution_count": 20,
   "id": "5fa5aba9",
   "metadata": {
    "execution": {
     "iopub.execute_input": "2021-08-13T13:29:57.457229Z",
     "iopub.status.busy": "2021-08-13T13:29:57.456569Z",
     "iopub.status.idle": "2021-08-13T13:29:57.472557Z",
     "shell.execute_reply": "2021-08-13T13:29:57.471987Z",
     "shell.execute_reply.started": "2021-08-12T07:27:56.502957Z"
    },
    "papermill": {
     "duration": 0.291162,
     "end_time": "2021-08-13T13:29:57.472708",
     "exception": false,
     "start_time": "2021-08-13T13:29:57.181546",
     "status": "completed"
    },
    "tags": []
   },
   "outputs": [],
   "source": [
    "data = [train_df, test_df]\n",
    "titles = {'Mr': 1, 'Miss': 2, 'Mrs': 3, 'Master': 4, 'Rare': 5}\n",
    "\n",
    "for dataset in data:\n",
    "    # Extract titles\n",
    "    dataset['Title'] = dataset.Name.str.extract(' ([a-zA-Z]+)\\.', expand= False)\n",
    "    # Replace titles with a more common title or as Rare\n",
    "    dataset['Title'] = dataset['Title'].replace(['Lady', 'Countess', 'Cap', 'Col', 'Don', 'Dr'\\\n",
    "                                                 'Major', 'Rev', 'Sir', 'Jonkheer', 'Dona'], 'Rare')\n",
    "    dataset['Title'] = dataset['Title'].replace('Mlle', 'Miss')\n",
    "    dataset['Title'] = dataset['Title'].replace('Ms', 'Miss')\n",
    "    dataset['Title'] = dataset['Title'].replace('Mme', 'Mrs')\n",
    "    \n",
    "    # Convert titles into numbers\n",
    "    dataset['Title'] = dataset['Title'].map(titles)\n",
    "    # Filling NaN with 0, to get safe\n",
    "    dataset['Title'] = dataset['Title'].fillna(0)\n",
    "    dataset['Title'] = dataset['Title'].astype(int)\n",
    "    \n",
    "train_df = train_df.drop(['Name'], axis= 1)\n",
    "test_df = test_df.drop(['Name'], axis= 1)"
   ]
  },
  {
   "cell_type": "code",
   "execution_count": 21,
   "id": "da167f32",
   "metadata": {
    "execution": {
     "iopub.execute_input": "2021-08-13T13:29:59.052642Z",
     "iopub.status.busy": "2021-08-13T13:29:59.051920Z",
     "iopub.status.idle": "2021-08-13T13:29:59.055032Z",
     "shell.execute_reply": "2021-08-13T13:29:59.054499Z",
     "shell.execute_reply.started": "2021-08-12T07:27:56.539169Z"
    },
    "papermill": {
     "duration": 0.266929,
     "end_time": "2021-08-13T13:29:59.055175",
     "exception": false,
     "start_time": "2021-08-13T13:29:58.788246",
     "status": "completed"
    },
    "tags": []
   },
   "outputs": [],
   "source": [
    "genders = {'male': 0, 'female': 1}\n",
    "data = [train_df, test_df]\n",
    "\n",
    "for dataset in data:\n",
    "    dataset['Sex'] = dataset['Sex'].map(genders)"
   ]
  },
  {
   "cell_type": "code",
   "execution_count": 22,
   "id": "f2731e7a",
   "metadata": {
    "execution": {
     "iopub.execute_input": "2021-08-13T13:30:00.085113Z",
     "iopub.status.busy": "2021-08-13T13:30:00.084387Z",
     "iopub.status.idle": "2021-08-13T13:30:00.092349Z",
     "shell.execute_reply": "2021-08-13T13:30:00.091863Z",
     "shell.execute_reply.started": "2021-08-12T07:27:56.558168Z"
    },
    "papermill": {
     "duration": 0.270262,
     "end_time": "2021-08-13T13:30:00.092497",
     "exception": false,
     "start_time": "2021-08-13T13:29:59.822235",
     "status": "completed"
    },
    "tags": []
   },
   "outputs": [
    {
     "data": {
      "text/plain": [
       "count        891\n",
       "unique       681\n",
       "top       347082\n",
       "freq           7\n",
       "Name: Ticket, dtype: object"
      ]
     },
     "execution_count": 22,
     "metadata": {},
     "output_type": "execute_result"
    }
   ],
   "source": [
    "train_df['Ticket'].describe()"
   ]
  },
  {
   "cell_type": "code",
   "execution_count": 23,
   "id": "18f26aaa",
   "metadata": {
    "execution": {
     "iopub.execute_input": "2021-08-13T13:30:01.124391Z",
     "iopub.status.busy": "2021-08-13T13:30:01.123591Z",
     "iopub.status.idle": "2021-08-13T13:30:01.129752Z",
     "shell.execute_reply": "2021-08-13T13:30:01.130255Z",
     "shell.execute_reply.started": "2021-08-12T07:27:56.577245Z"
    },
    "papermill": {
     "duration": 0.269753,
     "end_time": "2021-08-13T13:30:01.130424",
     "exception": false,
     "start_time": "2021-08-13T13:30:00.860671",
     "status": "completed"
    },
    "tags": []
   },
   "outputs": [],
   "source": [
    "train_df = train_df.drop(['Ticket'], axis= 1)\n",
    "test_df = test_df.drop(['Ticket'], axis= 1)"
   ]
  },
  {
   "cell_type": "code",
   "execution_count": 24,
   "id": "68e8b34f",
   "metadata": {
    "execution": {
     "iopub.execute_input": "2021-08-13T13:30:02.692882Z",
     "iopub.status.busy": "2021-08-13T13:30:02.692078Z",
     "iopub.status.idle": "2021-08-13T13:30:02.698904Z",
     "shell.execute_reply": "2021-08-13T13:30:02.699416Z",
     "shell.execute_reply.started": "2021-08-12T07:27:56.596065Z"
    },
    "papermill": {
     "duration": 0.267262,
     "end_time": "2021-08-13T13:30:02.699606",
     "exception": false,
     "start_time": "2021-08-13T13:30:02.432344",
     "status": "completed"
    },
    "tags": []
   },
   "outputs": [],
   "source": [
    "ports = {'S': 0, 'C': 1, 'Q': 2}\n",
    "data = [train_df, test_df]\n",
    "\n",
    "for dataset in data:\n",
    "    dataset['Embarked'] = dataset['Embarked'].map(ports)"
   ]
  },
  {
   "cell_type": "code",
   "execution_count": 25,
   "id": "e86607cf",
   "metadata": {
    "execution": {
     "iopub.execute_input": "2021-08-13T13:30:05.310113Z",
     "iopub.status.busy": "2021-08-13T13:30:05.309129Z",
     "iopub.status.idle": "2021-08-13T13:30:05.337211Z",
     "shell.execute_reply": "2021-08-13T13:30:05.337754Z",
     "shell.execute_reply.started": "2021-08-12T07:27:56.609994Z"
    },
    "papermill": {
     "duration": 0.286596,
     "end_time": "2021-08-13T13:30:05.337924",
     "exception": false,
     "start_time": "2021-08-13T13:30:05.051328",
     "status": "completed"
    },
    "tags": []
   },
   "outputs": [
    {
     "data": {
      "text/plain": [
       "Age\n",
       "4    181\n",
       "6    156\n",
       "5    145\n",
       "3    138\n",
       "2    109\n",
       "1     94\n",
       "0     68\n",
       "Name: count, dtype: int64"
      ]
     },
     "execution_count": 25,
     "metadata": {},
     "output_type": "execute_result"
    }
   ],
   "source": [
    "data = [train_df, test_df]\n",
    "for dataset in data:\n",
    "    dataset['Age'] = dataset['Age'].astype(int)\n",
    "    dataset.loc[dataset['Age'] <= 11, 'Age'] = 0\n",
    "    dataset.loc[(dataset['Age'] > 11) & (dataset['Age'] <= 18), 'Age'] = 1\n",
    "    dataset.loc[(dataset['Age'] > 18) & (dataset['Age'] <= 22), 'Age'] = 2\n",
    "    dataset.loc[(dataset['Age'] > 22) & (dataset['Age'] <= 27), 'Age'] = 3\n",
    "    dataset.loc[(dataset['Age'] > 27) & (dataset['Age'] <= 33), 'Age'] = 4\n",
    "    dataset.loc[(dataset['Age'] > 33) & (dataset['Age'] <= 40), 'Age'] = 5\n",
    "    dataset.loc[(dataset['Age'] > 40) & (dataset['Age'] <= 66), 'Age'] = 6\n",
    "    dataset.loc[dataset['Age'] > 66, 'Age'] = 6\n",
    "    \n",
    "# let's see how it's distributed \n",
    "train_df['Age'].value_counts()"
   ]
  },
  {
   "cell_type": "code",
   "execution_count": 26,
   "id": "1d36e35c",
   "metadata": {
    "execution": {
     "iopub.execute_input": "2021-08-13T13:30:06.874913Z",
     "iopub.status.busy": "2021-08-13T13:30:06.873842Z",
     "iopub.status.idle": "2021-08-13T13:30:06.888388Z",
     "shell.execute_reply": "2021-08-13T13:30:06.887895Z",
     "shell.execute_reply.started": "2021-08-12T07:27:56.645578Z"
    },
    "papermill": {
     "duration": 0.271697,
     "end_time": "2021-08-13T13:30:06.888541",
     "exception": false,
     "start_time": "2021-08-13T13:30:06.616844",
     "status": "completed"
    },
    "tags": []
   },
   "outputs": [
    {
     "data": {
      "text/html": [
       "<div>\n",
       "<style scoped>\n",
       "    .dataframe tbody tr th:only-of-type {\n",
       "        vertical-align: middle;\n",
       "    }\n",
       "\n",
       "    .dataframe tbody tr th {\n",
       "        vertical-align: top;\n",
       "    }\n",
       "\n",
       "    .dataframe thead th {\n",
       "        text-align: right;\n",
       "    }\n",
       "</style>\n",
       "<table border=\"1\" class=\"dataframe\">\n",
       "  <thead>\n",
       "    <tr style=\"text-align: right;\">\n",
       "      <th></th>\n",
       "      <th>Survived</th>\n",
       "      <th>Pclass</th>\n",
       "      <th>Sex</th>\n",
       "      <th>Age</th>\n",
       "      <th>SibSp</th>\n",
       "      <th>Parch</th>\n",
       "      <th>Fare</th>\n",
       "      <th>Embarked</th>\n",
       "      <th>relatives</th>\n",
       "      <th>not_alone</th>\n",
       "      <th>Deck</th>\n",
       "      <th>Title</th>\n",
       "    </tr>\n",
       "  </thead>\n",
       "  <tbody>\n",
       "    <tr>\n",
       "      <th>0</th>\n",
       "      <td>0</td>\n",
       "      <td>3</td>\n",
       "      <td>0</td>\n",
       "      <td>2</td>\n",
       "      <td>1</td>\n",
       "      <td>0</td>\n",
       "      <td>7</td>\n",
       "      <td>0</td>\n",
       "      <td>1</td>\n",
       "      <td>0</td>\n",
       "      <td>8</td>\n",
       "      <td>1</td>\n",
       "    </tr>\n",
       "    <tr>\n",
       "      <th>1</th>\n",
       "      <td>1</td>\n",
       "      <td>1</td>\n",
       "      <td>1</td>\n",
       "      <td>5</td>\n",
       "      <td>1</td>\n",
       "      <td>0</td>\n",
       "      <td>71</td>\n",
       "      <td>1</td>\n",
       "      <td>1</td>\n",
       "      <td>0</td>\n",
       "      <td>3</td>\n",
       "      <td>3</td>\n",
       "    </tr>\n",
       "    <tr>\n",
       "      <th>2</th>\n",
       "      <td>1</td>\n",
       "      <td>3</td>\n",
       "      <td>1</td>\n",
       "      <td>3</td>\n",
       "      <td>0</td>\n",
       "      <td>0</td>\n",
       "      <td>7</td>\n",
       "      <td>0</td>\n",
       "      <td>0</td>\n",
       "      <td>1</td>\n",
       "      <td>8</td>\n",
       "      <td>2</td>\n",
       "    </tr>\n",
       "    <tr>\n",
       "      <th>3</th>\n",
       "      <td>1</td>\n",
       "      <td>1</td>\n",
       "      <td>1</td>\n",
       "      <td>5</td>\n",
       "      <td>1</td>\n",
       "      <td>0</td>\n",
       "      <td>53</td>\n",
       "      <td>0</td>\n",
       "      <td>1</td>\n",
       "      <td>0</td>\n",
       "      <td>3</td>\n",
       "      <td>3</td>\n",
       "    </tr>\n",
       "    <tr>\n",
       "      <th>4</th>\n",
       "      <td>0</td>\n",
       "      <td>3</td>\n",
       "      <td>0</td>\n",
       "      <td>5</td>\n",
       "      <td>0</td>\n",
       "      <td>0</td>\n",
       "      <td>8</td>\n",
       "      <td>0</td>\n",
       "      <td>0</td>\n",
       "      <td>1</td>\n",
       "      <td>8</td>\n",
       "      <td>1</td>\n",
       "    </tr>\n",
       "  </tbody>\n",
       "</table>\n",
       "</div>"
      ],
      "text/plain": [
       "   Survived  Pclass  Sex  Age  SibSp  Parch  Fare  Embarked  relatives  \\\n",
       "0         0       3    0    2      1      0     7         0          1   \n",
       "1         1       1    1    5      1      0    71         1          1   \n",
       "2         1       3    1    3      0      0     7         0          0   \n",
       "3         1       1    1    5      1      0    53         0          1   \n",
       "4         0       3    0    5      0      0     8         0          0   \n",
       "\n",
       "   not_alone  Deck  Title  \n",
       "0          0     8      1  \n",
       "1          0     3      3  \n",
       "2          1     8      2  \n",
       "3          0     3      3  \n",
       "4          1     8      1  "
      ]
     },
     "execution_count": 26,
     "metadata": {},
     "output_type": "execute_result"
    }
   ],
   "source": [
    "train_df.head()"
   ]
  },
  {
   "cell_type": "code",
   "execution_count": 27,
   "id": "3a124116",
   "metadata": {
    "execution": {
     "iopub.execute_input": "2021-08-13T13:30:07.423166Z",
     "iopub.status.busy": "2021-08-13T13:30:07.413363Z",
     "iopub.status.idle": "2021-08-13T13:30:07.426940Z",
     "shell.execute_reply": "2021-08-13T13:30:07.427381Z",
     "shell.execute_reply.started": "2021-08-12T07:27:56.663808Z"
    },
    "papermill": {
     "duration": 0.283609,
     "end_time": "2021-08-13T13:30:07.427581",
     "exception": false,
     "start_time": "2021-08-13T13:30:07.143972",
     "status": "completed"
    },
    "tags": []
   },
   "outputs": [
    {
     "data": {
      "text/plain": [
       "Fare\n",
       "0    311\n",
       "2    223\n",
       "3    158\n",
       "1    146\n",
       "4     44\n",
       "5      9\n",
       "Name: count, dtype: int64"
      ]
     },
     "execution_count": 27,
     "metadata": {},
     "output_type": "execute_result"
    }
   ],
   "source": [
    "data = [train_df, test_df]\n",
    "for dataset in data:\n",
    "    dataset.loc[ dataset['Fare'] <= 8, 'Fare'] = 0\n",
    "    dataset.loc[(dataset['Fare'] > 8) & (dataset['Fare'] <= 14), 'Fare'] = 1\n",
    "    dataset.loc[(dataset['Fare'] > 14) & (dataset['Fare'] <= 31), 'Fare']   = 2\n",
    "    dataset.loc[(dataset['Fare'] > 31) & (dataset['Fare'] <= 99), 'Fare']   = 3\n",
    "    dataset.loc[(dataset['Fare'] > 99) & (dataset['Fare'] <= 250), 'Fare']   = 4\n",
    "    dataset.loc[ dataset['Fare'] > 250, 'Fare'] = 5\n",
    "    dataset['Fare'] = dataset['Fare'].astype(int)\n",
    "    \n",
    "# let's see how it's distributed\n",
    "train_df['Fare'].value_counts()"
   ]
  },
  {
   "cell_type": "code",
   "execution_count": 28,
   "id": "459687a2",
   "metadata": {
    "execution": {
     "iopub.execute_input": "2021-08-13T13:30:09.523728Z",
     "iopub.status.busy": "2021-08-13T13:30:09.522820Z",
     "iopub.status.idle": "2021-08-13T13:30:09.525339Z",
     "shell.execute_reply": "2021-08-13T13:30:09.525806Z",
     "shell.execute_reply.started": "2021-08-12T07:27:56.696072Z"
    },
    "papermill": {
     "duration": 0.266985,
     "end_time": "2021-08-13T13:30:09.525974",
     "exception": false,
     "start_time": "2021-08-13T13:30:09.258989",
     "status": "completed"
    },
    "tags": []
   },
   "outputs": [],
   "source": [
    "data = [train_df, test_df]\n",
    "for dataset in data:\n",
    "    dataset['Age_Class'] = dataset['Age'] * dataset['Pclass']"
   ]
  },
  {
   "cell_type": "code",
   "execution_count": 29,
   "id": "7b137e00",
   "metadata": {
    "execution": {
     "iopub.execute_input": "2021-08-13T13:30:10.554830Z",
     "iopub.status.busy": "2021-08-13T13:30:10.554065Z",
     "iopub.status.idle": "2021-08-13T13:30:10.574091Z",
     "shell.execute_reply": "2021-08-13T13:30:10.574614Z",
     "shell.execute_reply.started": "2021-08-12T07:27:56.708212Z"
    },
    "papermill": {
     "duration": 0.280608,
     "end_time": "2021-08-13T13:30:10.574790",
     "exception": false,
     "start_time": "2021-08-13T13:30:10.294182",
     "status": "completed"
    },
    "tags": []
   },
   "outputs": [
    {
     "data": {
      "text/html": [
       "<div>\n",
       "<style scoped>\n",
       "    .dataframe tbody tr th:only-of-type {\n",
       "        vertical-align: middle;\n",
       "    }\n",
       "\n",
       "    .dataframe tbody tr th {\n",
       "        vertical-align: top;\n",
       "    }\n",
       "\n",
       "    .dataframe thead th {\n",
       "        text-align: right;\n",
       "    }\n",
       "</style>\n",
       "<table border=\"1\" class=\"dataframe\">\n",
       "  <thead>\n",
       "    <tr style=\"text-align: right;\">\n",
       "      <th></th>\n",
       "      <th>Survived</th>\n",
       "      <th>Pclass</th>\n",
       "      <th>Sex</th>\n",
       "      <th>Age</th>\n",
       "      <th>SibSp</th>\n",
       "      <th>Parch</th>\n",
       "      <th>Fare</th>\n",
       "      <th>Embarked</th>\n",
       "      <th>relatives</th>\n",
       "      <th>not_alone</th>\n",
       "      <th>Deck</th>\n",
       "      <th>Title</th>\n",
       "      <th>Age_Class</th>\n",
       "      <th>Fare_Per_Person</th>\n",
       "    </tr>\n",
       "  </thead>\n",
       "  <tbody>\n",
       "    <tr>\n",
       "      <th>0</th>\n",
       "      <td>0</td>\n",
       "      <td>3</td>\n",
       "      <td>0</td>\n",
       "      <td>2</td>\n",
       "      <td>1</td>\n",
       "      <td>0</td>\n",
       "      <td>0</td>\n",
       "      <td>0</td>\n",
       "      <td>1</td>\n",
       "      <td>0</td>\n",
       "      <td>8</td>\n",
       "      <td>1</td>\n",
       "      <td>6</td>\n",
       "      <td>0</td>\n",
       "    </tr>\n",
       "    <tr>\n",
       "      <th>1</th>\n",
       "      <td>1</td>\n",
       "      <td>1</td>\n",
       "      <td>1</td>\n",
       "      <td>5</td>\n",
       "      <td>1</td>\n",
       "      <td>0</td>\n",
       "      <td>3</td>\n",
       "      <td>1</td>\n",
       "      <td>1</td>\n",
       "      <td>0</td>\n",
       "      <td>3</td>\n",
       "      <td>3</td>\n",
       "      <td>5</td>\n",
       "      <td>1</td>\n",
       "    </tr>\n",
       "    <tr>\n",
       "      <th>2</th>\n",
       "      <td>1</td>\n",
       "      <td>3</td>\n",
       "      <td>1</td>\n",
       "      <td>3</td>\n",
       "      <td>0</td>\n",
       "      <td>0</td>\n",
       "      <td>0</td>\n",
       "      <td>0</td>\n",
       "      <td>0</td>\n",
       "      <td>1</td>\n",
       "      <td>8</td>\n",
       "      <td>2</td>\n",
       "      <td>9</td>\n",
       "      <td>0</td>\n",
       "    </tr>\n",
       "    <tr>\n",
       "      <th>3</th>\n",
       "      <td>1</td>\n",
       "      <td>1</td>\n",
       "      <td>1</td>\n",
       "      <td>5</td>\n",
       "      <td>1</td>\n",
       "      <td>0</td>\n",
       "      <td>3</td>\n",
       "      <td>0</td>\n",
       "      <td>1</td>\n",
       "      <td>0</td>\n",
       "      <td>3</td>\n",
       "      <td>3</td>\n",
       "      <td>5</td>\n",
       "      <td>1</td>\n",
       "    </tr>\n",
       "    <tr>\n",
       "      <th>4</th>\n",
       "      <td>0</td>\n",
       "      <td>3</td>\n",
       "      <td>0</td>\n",
       "      <td>5</td>\n",
       "      <td>0</td>\n",
       "      <td>0</td>\n",
       "      <td>0</td>\n",
       "      <td>0</td>\n",
       "      <td>0</td>\n",
       "      <td>1</td>\n",
       "      <td>8</td>\n",
       "      <td>1</td>\n",
       "      <td>15</td>\n",
       "      <td>0</td>\n",
       "    </tr>\n",
       "    <tr>\n",
       "      <th>5</th>\n",
       "      <td>0</td>\n",
       "      <td>3</td>\n",
       "      <td>0</td>\n",
       "      <td>3</td>\n",
       "      <td>0</td>\n",
       "      <td>0</td>\n",
       "      <td>0</td>\n",
       "      <td>2</td>\n",
       "      <td>0</td>\n",
       "      <td>1</td>\n",
       "      <td>8</td>\n",
       "      <td>1</td>\n",
       "      <td>9</td>\n",
       "      <td>0</td>\n",
       "    </tr>\n",
       "    <tr>\n",
       "      <th>6</th>\n",
       "      <td>0</td>\n",
       "      <td>1</td>\n",
       "      <td>0</td>\n",
       "      <td>6</td>\n",
       "      <td>0</td>\n",
       "      <td>0</td>\n",
       "      <td>3</td>\n",
       "      <td>0</td>\n",
       "      <td>0</td>\n",
       "      <td>1</td>\n",
       "      <td>5</td>\n",
       "      <td>1</td>\n",
       "      <td>6</td>\n",
       "      <td>3</td>\n",
       "    </tr>\n",
       "    <tr>\n",
       "      <th>7</th>\n",
       "      <td>0</td>\n",
       "      <td>3</td>\n",
       "      <td>0</td>\n",
       "      <td>0</td>\n",
       "      <td>3</td>\n",
       "      <td>1</td>\n",
       "      <td>2</td>\n",
       "      <td>0</td>\n",
       "      <td>4</td>\n",
       "      <td>0</td>\n",
       "      <td>8</td>\n",
       "      <td>4</td>\n",
       "      <td>0</td>\n",
       "      <td>0</td>\n",
       "    </tr>\n",
       "    <tr>\n",
       "      <th>8</th>\n",
       "      <td>1</td>\n",
       "      <td>3</td>\n",
       "      <td>1</td>\n",
       "      <td>3</td>\n",
       "      <td>0</td>\n",
       "      <td>2</td>\n",
       "      <td>1</td>\n",
       "      <td>0</td>\n",
       "      <td>2</td>\n",
       "      <td>0</td>\n",
       "      <td>8</td>\n",
       "      <td>3</td>\n",
       "      <td>9</td>\n",
       "      <td>0</td>\n",
       "    </tr>\n",
       "    <tr>\n",
       "      <th>9</th>\n",
       "      <td>1</td>\n",
       "      <td>2</td>\n",
       "      <td>1</td>\n",
       "      <td>1</td>\n",
       "      <td>1</td>\n",
       "      <td>0</td>\n",
       "      <td>2</td>\n",
       "      <td>1</td>\n",
       "      <td>1</td>\n",
       "      <td>0</td>\n",
       "      <td>8</td>\n",
       "      <td>3</td>\n",
       "      <td>2</td>\n",
       "      <td>1</td>\n",
       "    </tr>\n",
       "  </tbody>\n",
       "</table>\n",
       "</div>"
      ],
      "text/plain": [
       "   Survived  Pclass  Sex  Age  SibSp  Parch  Fare  Embarked  relatives  \\\n",
       "0         0       3    0    2      1      0     0         0          1   \n",
       "1         1       1    1    5      1      0     3         1          1   \n",
       "2         1       3    1    3      0      0     0         0          0   \n",
       "3         1       1    1    5      1      0     3         0          1   \n",
       "4         0       3    0    5      0      0     0         0          0   \n",
       "5         0       3    0    3      0      0     0         2          0   \n",
       "6         0       1    0    6      0      0     3         0          0   \n",
       "7         0       3    0    0      3      1     2         0          4   \n",
       "8         1       3    1    3      0      2     1         0          2   \n",
       "9         1       2    1    1      1      0     2         1          1   \n",
       "\n",
       "   not_alone  Deck  Title  Age_Class  Fare_Per_Person  \n",
       "0          0     8      1          6                0  \n",
       "1          0     3      3          5                1  \n",
       "2          1     8      2          9                0  \n",
       "3          0     3      3          5                1  \n",
       "4          1     8      1         15                0  \n",
       "5          1     8      1          9                0  \n",
       "6          1     5      1          6                3  \n",
       "7          0     8      4          0                0  \n",
       "8          0     8      3          9                0  \n",
       "9          0     8      3          2                1  "
      ]
     },
     "execution_count": 29,
     "metadata": {},
     "output_type": "execute_result"
    }
   ],
   "source": [
    "for dataset in data:\n",
    "    dataset['Fare_Per_Person'] = dataset['Fare'] / (dataset['relatives'] + 1)\n",
    "    dataset['Fare_Per_Person'] = dataset['Fare_Per_Person'].astype(int)\n",
    "    \n",
    "# Let's take a last look at the training set, before we start training the models.\n",
    "train_df.head(10)"
   ]
  },
  {
   "cell_type": "code",
   "execution_count": 30,
   "id": "7847be86",
   "metadata": {
    "execution": {
     "iopub.execute_input": "2021-08-13T13:30:12.133781Z",
     "iopub.status.busy": "2021-08-13T13:30:12.132712Z",
     "iopub.status.idle": "2021-08-13T13:30:12.146603Z",
     "shell.execute_reply": "2021-08-13T13:30:12.145990Z",
     "shell.execute_reply.started": "2021-08-12T07:27:56.734847Z"
    },
    "papermill": {
     "duration": 0.290511,
     "end_time": "2021-08-13T13:30:12.146794",
     "exception": false,
     "start_time": "2021-08-13T13:30:11.856283",
     "status": "completed"
    },
    "tags": []
   },
   "outputs": [],
   "source": [
    "X_train = train_df.drop(['Survived'], axis= 1)\n",
    "Y_train = train_df['Survived']\n",
    "X_Test = test_df.drop(['PassengerId'], axis= 1).copy()"
   ]
  },
  {
   "cell_type": "markdown",
   "id": "c5007b33",
   "metadata": {
    "papermill": {
     "duration": 0.258852,
     "end_time": "2021-08-13T13:30:12.692329",
     "exception": false,
     "start_time": "2021-08-13T13:30:12.433477",
     "status": "completed"
    },
    "tags": []
   },
   "source": [
    "### 1. __Random Forest:__"
   ]
  },
  {
   "cell_type": "code",
   "execution_count": 31,
   "id": "358b8997",
   "metadata": {
    "execution": {
     "iopub.execute_input": "2021-08-13T13:30:13.241699Z",
     "iopub.status.busy": "2021-08-13T13:30:13.240972Z",
     "iopub.status.idle": "2021-08-13T13:30:13.538550Z",
     "shell.execute_reply": "2021-08-13T13:30:13.537868Z",
     "shell.execute_reply.started": "2021-08-12T07:27:56.750573Z"
    },
    "papermill": {
     "duration": 0.58651,
     "end_time": "2021-08-13T13:30:13.538694",
     "exception": false,
     "start_time": "2021-08-13T13:30:12.952184",
     "status": "completed"
    },
    "tags": []
   },
   "outputs": [],
   "source": [
    "random_forest = RandomForestClassifier(n_estimators=100)\n",
    "random_forest.fit(X_train, Y_train)\n",
    "\n",
    "Y_prediction = random_forest.predict(X_Test)\n",
    "\n",
    "random_forest.score(X_train, Y_train)\n",
    "acc_random_forest = round(random_forest.score(X_train, Y_train) * 100, 2)"
   ]
  },
  {
   "cell_type": "markdown",
   "id": "9de5aa3c",
   "metadata": {
    "papermill": {
     "duration": 0.258564,
     "end_time": "2021-08-13T13:30:14.054954",
     "exception": false,
     "start_time": "2021-08-13T13:30:13.796390",
     "status": "completed"
    },
    "tags": []
   },
   "source": [
    " ### 2. __Logistic Regression:__"
   ]
  },
  {
   "cell_type": "code",
   "execution_count": 32,
   "id": "dc46c10a",
   "metadata": {
    "execution": {
     "iopub.execute_input": "2021-08-13T13:30:14.580912Z",
     "iopub.status.busy": "2021-08-13T13:30:14.580251Z",
     "iopub.status.idle": "2021-08-13T13:30:14.724084Z",
     "shell.execute_reply": "2021-08-13T13:30:14.723003Z",
     "shell.execute_reply.started": "2021-08-12T07:27:57.059525Z"
    },
    "papermill": {
     "duration": 0.403969,
     "end_time": "2021-08-13T13:30:14.724302",
     "exception": false,
     "start_time": "2021-08-13T13:30:14.320333",
     "status": "completed"
    },
    "tags": []
   },
   "outputs": [],
   "source": [
    "logreg = LogisticRegression(solver='liblinear')\n",
    "logreg.fit(X_train, Y_train)\n",
    "\n",
    "Y_pred = logreg.predict(X_Test)\n",
    "\n",
    "acc_logreg = round(logreg.score(X_train, Y_train) * 100, 2)"
   ]
  },
  {
   "cell_type": "markdown",
   "id": "245fe675",
   "metadata": {
    "papermill": {
     "duration": 0.25655,
     "end_time": "2021-08-13T13:30:15.294406",
     "exception": false,
     "start_time": "2021-08-13T13:30:15.037856",
     "status": "completed"
    },
    "tags": []
   },
   "source": [
    "### 3. __K Nearest Neighbor:__"
   ]
  },
  {
   "cell_type": "code",
   "execution_count": 33,
   "id": "3cb4b6a5",
   "metadata": {
    "execution": {
     "iopub.execute_input": "2021-08-13T13:30:15.825372Z",
     "iopub.status.busy": "2021-08-13T13:30:15.823596Z",
     "iopub.status.idle": "2021-08-13T13:30:15.893020Z",
     "shell.execute_reply": "2021-08-13T13:30:15.892319Z",
     "shell.execute_reply.started": "2021-08-12T07:27:57.091219Z"
    },
    "papermill": {
     "duration": 0.341997,
     "end_time": "2021-08-13T13:30:15.893162",
     "exception": false,
     "start_time": "2021-08-13T13:30:15.551165",
     "status": "completed"
    },
    "tags": []
   },
   "outputs": [],
   "source": [
    "# KNN\n",
    "knn = KNeighborsClassifier(n_neighbors= 3)\n",
    "knn.fit(X_train, Y_train)\n",
    "\n",
    "Y_pred = knn.predict(X_Test)\n",
    "\n",
    "acc_knn = round(knn.score(X_train, Y_train) * 100, 2)"
   ]
  },
  {
   "cell_type": "markdown",
   "id": "3779261e",
   "metadata": {
    "papermill": {
     "duration": 0.260669,
     "end_time": "2021-08-13T13:30:16.410687",
     "exception": false,
     "start_time": "2021-08-13T13:30:16.150018",
     "status": "completed"
    },
    "tags": []
   },
   "source": [
    "## __Which is the best Model ?__"
   ]
  },
  {
   "cell_type": "code",
   "execution_count": 34,
   "id": "3bcd466c",
   "metadata": {
    "execution": {
     "iopub.execute_input": "2021-08-13T13:30:16.929542Z",
     "iopub.status.busy": "2021-08-13T13:30:16.928575Z",
     "iopub.status.idle": "2021-08-13T13:30:16.941233Z",
     "shell.execute_reply": "2021-08-13T13:30:16.941787Z",
     "shell.execute_reply.started": "2021-08-12T07:27:57.220564Z"
    },
    "papermill": {
     "duration": 0.273838,
     "end_time": "2021-08-13T13:30:16.941955",
     "exception": false,
     "start_time": "2021-08-13T13:30:16.668117",
     "status": "completed"
    },
    "tags": []
   },
   "outputs": [
    {
     "data": {
      "text/html": [
       "<div>\n",
       "<style scoped>\n",
       "    .dataframe tbody tr th:only-of-type {\n",
       "        vertical-align: middle;\n",
       "    }\n",
       "\n",
       "    .dataframe tbody tr th {\n",
       "        vertical-align: top;\n",
       "    }\n",
       "\n",
       "    .dataframe thead th {\n",
       "        text-align: right;\n",
       "    }\n",
       "</style>\n",
       "<table border=\"1\" class=\"dataframe\">\n",
       "  <thead>\n",
       "    <tr style=\"text-align: right;\">\n",
       "      <th></th>\n",
       "      <th>Model</th>\n",
       "    </tr>\n",
       "    <tr>\n",
       "      <th>Score</th>\n",
       "      <th></th>\n",
       "    </tr>\n",
       "  </thead>\n",
       "  <tbody>\n",
       "    <tr>\n",
       "      <th>92.82</th>\n",
       "      <td>Random Forest</td>\n",
       "    </tr>\n",
       "    <tr>\n",
       "      <th>87.09</th>\n",
       "      <td>KNN</td>\n",
       "    </tr>\n",
       "    <tr>\n",
       "      <th>82.15</th>\n",
       "      <td>Logestic Regresion</td>\n",
       "    </tr>\n",
       "  </tbody>\n",
       "</table>\n",
       "</div>"
      ],
      "text/plain": [
       "                    Model\n",
       "Score                    \n",
       "92.82       Random Forest\n",
       "87.09                 KNN\n",
       "82.15  Logestic Regresion"
      ]
     },
     "execution_count": 34,
     "metadata": {},
     "output_type": "execute_result"
    }
   ],
   "source": [
    "results = pd.DataFrame({'Model': ['KNN', 'Logestic Regresion', 'Random Forest'],\\\n",
    "                       'Score': [acc_knn, acc_logreg, acc_random_forest]})\n",
    "result_df = results.sort_values(by= 'Score', ascending= False)\n",
    "result_df = result_df.set_index('Score')\n",
    "result_df.head()"
   ]
  },
  {
   "cell_type": "markdown",
   "id": "f504f33a",
   "metadata": {
    "papermill": {
     "duration": 0.25732,
     "end_time": "2021-08-13T13:30:17.970494",
     "exception": false,
     "start_time": "2021-08-13T13:30:17.713174",
     "status": "completed"
    },
    "tags": []
   },
   "source": [
    "## __K-Fold Cross Validation:__"
   ]
  },
  {
   "cell_type": "code",
   "execution_count": 35,
   "id": "927fe51b",
   "metadata": {
    "execution": {
     "iopub.execute_input": "2021-08-13T13:30:19.010761Z",
     "iopub.status.busy": "2021-08-13T13:30:19.009814Z",
     "iopub.status.idle": "2021-08-13T13:30:21.394114Z",
     "shell.execute_reply": "2021-08-13T13:30:21.393480Z",
     "shell.execute_reply.started": "2021-08-12T07:27:57.234932Z"
    },
    "papermill": {
     "duration": 2.651018,
     "end_time": "2021-08-13T13:30:21.394250",
     "exception": false,
     "start_time": "2021-08-13T13:30:18.743232",
     "status": "completed"
    },
    "tags": []
   },
   "outputs": [
    {
     "name": "stdout",
     "output_type": "stream",
     "text": [
      "Scores: [0.8        0.83146067 0.75280899 0.85393258 0.83146067 0.83146067\n",
      " 0.79775281 0.7752809  0.86516854 0.84269663]\n",
      "Mean: 0.8182022471910111\n",
      "Standard Deviation: 0.03387896649339042\n"
     ]
    }
   ],
   "source": [
    "from sklearn.model_selection import cross_val_score\n",
    "rf = RandomForestClassifier(n_estimators= 100)\n",
    "scores = cross_val_score(rf, X_train, Y_train, cv=10, scoring= \"accuracy\")\n",
    "\n",
    "print(\"Scores:\", scores)\n",
    "print(\"Mean:\", scores.mean())\n",
    "print(\"Standard Deviation:\", scores.std())"
   ]
  },
  {
   "cell_type": "markdown",
   "id": "65e62a25",
   "metadata": {
    "papermill": {
     "duration": 0.262428,
     "end_time": "2021-08-13T13:30:22.424054",
     "exception": false,
     "start_time": "2021-08-13T13:30:22.161626",
     "status": "completed"
    },
    "tags": []
   },
   "source": [
    "### __Random Forest__"
   ]
  },
  {
   "cell_type": "code",
   "execution_count": 36,
   "id": "d4da7550",
   "metadata": {
    "execution": {
     "iopub.execute_input": "2021-08-13T13:30:25.025804Z",
     "iopub.status.busy": "2021-08-13T13:30:25.024811Z",
     "iopub.status.idle": "2021-08-13T13:30:25.046944Z",
     "shell.execute_reply": "2021-08-13T13:30:25.047437Z",
     "shell.execute_reply.started": "2021-08-12T07:27:59.641019Z"
    },
    "papermill": {
     "duration": 0.282216,
     "end_time": "2021-08-13T13:30:25.047621",
     "exception": false,
     "start_time": "2021-08-13T13:30:24.765405",
     "status": "completed"
    },
    "tags": []
   },
   "outputs": [
    {
     "data": {
      "text/html": [
       "<div>\n",
       "<style scoped>\n",
       "    .dataframe tbody tr th:only-of-type {\n",
       "        vertical-align: middle;\n",
       "    }\n",
       "\n",
       "    .dataframe tbody tr th {\n",
       "        vertical-align: top;\n",
       "    }\n",
       "\n",
       "    .dataframe thead th {\n",
       "        text-align: right;\n",
       "    }\n",
       "</style>\n",
       "<table border=\"1\" class=\"dataframe\">\n",
       "  <thead>\n",
       "    <tr style=\"text-align: right;\">\n",
       "      <th></th>\n",
       "      <th>importance</th>\n",
       "    </tr>\n",
       "    <tr>\n",
       "      <th>feature</th>\n",
       "      <th></th>\n",
       "    </tr>\n",
       "  </thead>\n",
       "  <tbody>\n",
       "    <tr>\n",
       "      <th>Title</th>\n",
       "      <td>0.197</td>\n",
       "    </tr>\n",
       "    <tr>\n",
       "      <th>Sex</th>\n",
       "      <td>0.186</td>\n",
       "    </tr>\n",
       "    <tr>\n",
       "      <th>Age_Class</th>\n",
       "      <td>0.093</td>\n",
       "    </tr>\n",
       "    <tr>\n",
       "      <th>Deck</th>\n",
       "      <td>0.084</td>\n",
       "    </tr>\n",
       "    <tr>\n",
       "      <th>Age</th>\n",
       "      <td>0.077</td>\n",
       "    </tr>\n",
       "    <tr>\n",
       "      <th>Pclass</th>\n",
       "      <td>0.076</td>\n",
       "    </tr>\n",
       "    <tr>\n",
       "      <th>Fare</th>\n",
       "      <td>0.060</td>\n",
       "    </tr>\n",
       "    <tr>\n",
       "      <th>relatives</th>\n",
       "      <td>0.059</td>\n",
       "    </tr>\n",
       "    <tr>\n",
       "      <th>Embarked</th>\n",
       "      <td>0.050</td>\n",
       "    </tr>\n",
       "    <tr>\n",
       "      <th>Fare_Per_Person</th>\n",
       "      <td>0.047</td>\n",
       "    </tr>\n",
       "    <tr>\n",
       "      <th>SibSp</th>\n",
       "      <td>0.041</td>\n",
       "    </tr>\n",
       "    <tr>\n",
       "      <th>Parch</th>\n",
       "      <td>0.022</td>\n",
       "    </tr>\n",
       "    <tr>\n",
       "      <th>not_alone</th>\n",
       "      <td>0.010</td>\n",
       "    </tr>\n",
       "  </tbody>\n",
       "</table>\n",
       "</div>"
      ],
      "text/plain": [
       "                 importance\n",
       "feature                    \n",
       "Title                 0.197\n",
       "Sex                   0.186\n",
       "Age_Class             0.093\n",
       "Deck                  0.084\n",
       "Age                   0.077\n",
       "Pclass                0.076\n",
       "Fare                  0.060\n",
       "relatives             0.059\n",
       "Embarked              0.050\n",
       "Fare_Per_Person       0.047\n",
       "SibSp                 0.041\n",
       "Parch                 0.022\n",
       "not_alone             0.010"
      ]
     },
     "execution_count": 36,
     "metadata": {},
     "output_type": "execute_result"
    }
   ],
   "source": [
    "importances = pd.DataFrame({'feature': X_train.columns, 'importance': np.round(random_forest.feature_importances_, 3)})\n",
    "importances = importances.sort_values('importance', ascending= False).set_index('feature')\n",
    "\n",
    "importances.head(15)"
   ]
  },
  {
   "cell_type": "code",
   "execution_count": 37,
   "id": "4f470950",
   "metadata": {
    "execution": {
     "iopub.execute_input": "2021-08-13T13:30:25.568836Z",
     "iopub.status.busy": "2021-08-13T13:30:25.567866Z",
     "iopub.status.idle": "2021-08-13T13:30:25.833214Z",
     "shell.execute_reply": "2021-08-13T13:30:25.833693Z",
     "shell.execute_reply.started": "2021-08-12T07:27:59.666037Z"
    },
    "papermill": {
     "duration": 0.527061,
     "end_time": "2021-08-13T13:30:25.833871",
     "exception": false,
     "start_time": "2021-08-13T13:30:25.306810",
     "status": "completed"
    },
    "tags": []
   },
   "outputs": [
    {
     "data": {
      "text/plain": [
       "<Axes: xlabel='feature'>"
      ]
     },
     "execution_count": 37,
     "metadata": {},
     "output_type": "execute_result"
    },
    {
     "data": {
      "image/png": "[encoded data removed]",
      "text/plain": [
       "<Figure size 640x480 with 1 Axes>"
      ]
     },
     "metadata": {},
     "output_type": "display_data"
    }
   ],
   "source": [
    "importances.plot.bar()"
   ]
  },
  {
   "cell_type": "code",
   "execution_count": 38,
   "id": "f0979256",
   "metadata": {
    "execution": {
     "iopub.execute_input": "2021-08-13T13:30:26.873918Z",
     "iopub.status.busy": "2021-08-13T13:30:26.872870Z",
     "iopub.status.idle": "2021-08-13T13:30:26.880887Z",
     "shell.execute_reply": "2021-08-13T13:30:26.881339Z",
     "shell.execute_reply.started": "2021-08-12T07:27:59.938212Z"
    },
    "papermill": {
     "duration": 0.268527,
     "end_time": "2021-08-13T13:30:26.881542",
     "exception": false,
     "start_time": "2021-08-13T13:30:26.613015",
     "status": "completed"
    },
    "tags": []
   },
   "outputs": [
    {
     "data": {
      "text/html": [
       "<div>\n",
       "<style scoped>\n",
       "    .dataframe tbody tr th:only-of-type {\n",
       "        vertical-align: middle;\n",
       "    }\n",
       "\n",
       "    .dataframe tbody tr th {\n",
       "        vertical-align: top;\n",
       "    }\n",
       "\n",
       "    .dataframe thead th {\n",
       "        text-align: right;\n",
       "    }\n",
       "</style>\n",
       "<table border=\"1\" class=\"dataframe\">\n",
       "  <thead>\n",
       "    <tr style=\"text-align: right;\">\n",
       "      <th></th>\n",
       "      <th>Survived</th>\n",
       "      <th>Pclass</th>\n",
       "      <th>Sex</th>\n",
       "      <th>Age</th>\n",
       "      <th>SibSp</th>\n",
       "      <th>Fare</th>\n",
       "      <th>Embarked</th>\n",
       "      <th>relatives</th>\n",
       "      <th>Deck</th>\n",
       "      <th>Title</th>\n",
       "      <th>Age_Class</th>\n",
       "      <th>Fare_Per_Person</th>\n",
       "    </tr>\n",
       "  </thead>\n",
       "  <tbody>\n",
       "    <tr>\n",
       "      <th>0</th>\n",
       "      <td>0</td>\n",
       "      <td>3</td>\n",
       "      <td>0</td>\n",
       "      <td>2</td>\n",
       "      <td>1</td>\n",
       "      <td>0</td>\n",
       "      <td>0</td>\n",
       "      <td>1</td>\n",
       "      <td>8</td>\n",
       "      <td>1</td>\n",
       "      <td>6</td>\n",
       "      <td>0</td>\n",
       "    </tr>\n",
       "    <tr>\n",
       "      <th>1</th>\n",
       "      <td>1</td>\n",
       "      <td>1</td>\n",
       "      <td>1</td>\n",
       "      <td>5</td>\n",
       "      <td>1</td>\n",
       "      <td>3</td>\n",
       "      <td>1</td>\n",
       "      <td>1</td>\n",
       "      <td>3</td>\n",
       "      <td>3</td>\n",
       "      <td>5</td>\n",
       "      <td>1</td>\n",
       "    </tr>\n",
       "    <tr>\n",
       "      <th>2</th>\n",
       "      <td>1</td>\n",
       "      <td>3</td>\n",
       "      <td>1</td>\n",
       "      <td>3</td>\n",
       "      <td>0</td>\n",
       "      <td>0</td>\n",
       "      <td>0</td>\n",
       "      <td>0</td>\n",
       "      <td>8</td>\n",
       "      <td>2</td>\n",
       "      <td>9</td>\n",
       "      <td>0</td>\n",
       "    </tr>\n",
       "    <tr>\n",
       "      <th>3</th>\n",
       "      <td>1</td>\n",
       "      <td>1</td>\n",
       "      <td>1</td>\n",
       "      <td>5</td>\n",
       "      <td>1</td>\n",
       "      <td>3</td>\n",
       "      <td>0</td>\n",
       "      <td>1</td>\n",
       "      <td>3</td>\n",
       "      <td>3</td>\n",
       "      <td>5</td>\n",
       "      <td>1</td>\n",
       "    </tr>\n",
       "    <tr>\n",
       "      <th>4</th>\n",
       "      <td>0</td>\n",
       "      <td>3</td>\n",
       "      <td>0</td>\n",
       "      <td>5</td>\n",
       "      <td>0</td>\n",
       "      <td>0</td>\n",
       "      <td>0</td>\n",
       "      <td>0</td>\n",
       "      <td>8</td>\n",
       "      <td>1</td>\n",
       "      <td>15</td>\n",
       "      <td>0</td>\n",
       "    </tr>\n",
       "  </tbody>\n",
       "</table>\n",
       "</div>"
      ],
      "text/plain": [
       "   Survived  Pclass  Sex  Age  SibSp  Fare  Embarked  relatives  Deck  Title  \\\n",
       "0         0       3    0    2      1     0         0          1     8      1   \n",
       "1         1       1    1    5      1     3         1          1     3      3   \n",
       "2         1       3    1    3      0     0         0          0     8      2   \n",
       "3         1       1    1    5      1     3         0          1     3      3   \n",
       "4         0       3    0    5      0     0         0          0     8      1   \n",
       "\n",
       "   Age_Class  Fare_Per_Person  \n",
       "0          6                0  \n",
       "1          5                1  \n",
       "2          9                0  \n",
       "3          5                1  \n",
       "4         15                0  "
      ]
     },
     "execution_count": 38,
     "metadata": {},
     "output_type": "execute_result"
    }
   ],
   "source": [
    "train_df  = train_df.drop(\"not_alone\", axis=1)\n",
    "test_df  = test_df.drop(\"not_alone\", axis=1)\n",
    "\n",
    "train_df  = train_df.drop(\"Parch\", axis=1)\n",
    "test_df  = test_df.drop(\"Parch\", axis=1)\n",
    "\n",
    "train_df.head(5)"
   ]
  },
  {
   "cell_type": "markdown",
   "id": "fce48590",
   "metadata": {
    "papermill": {
     "duration": 0.258064,
     "end_time": "2021-08-13T13:30:27.400202",
     "exception": false,
     "start_time": "2021-08-13T13:30:27.142138",
     "status": "completed"
    },
    "tags": []
   },
   "source": [
    "__Training random forest again:__"
   ]
  },
  {
   "cell_type": "code",
   "execution_count": 39,
   "id": "01b72ad9",
   "metadata": {
    "execution": {
     "iopub.execute_input": "2021-08-13T13:30:27.920650Z",
     "iopub.status.busy": "2021-08-13T13:30:27.919625Z",
     "iopub.status.idle": "2021-08-13T13:30:28.261817Z",
     "shell.execute_reply": "2021-08-13T13:30:28.262287Z",
     "shell.execute_reply.started": "2021-08-12T07:27:59.950724Z"
    },
    "papermill": {
     "duration": 0.604431,
     "end_time": "2021-08-13T13:30:28.262464",
     "exception": false,
     "start_time": "2021-08-13T13:30:27.658033",
     "status": "completed"
    },
    "tags": []
   },
   "outputs": [
    {
     "name": "stdout",
     "output_type": "stream",
     "text": [
      "92.82 %\n"
     ]
    }
   ],
   "source": [
    "# Random Forest\n",
    "random_forest = RandomForestClassifier(n_estimators=100, oob_score= True)\n",
    "random_forest.fit(X_train, Y_train)\n",
    "\n",
    "Y_prediction = random_forest.predict(X_Test)\n",
    "\n",
    "acc_random_forest = round(random_forest.score(X_train, Y_train) * 100, 2)\n",
    "\n",
    "print(round(acc_random_forest, 2), '%')"
   ]
  },
  {
   "cell_type": "code",
   "execution_count": 40,
   "id": "d9a442b1",
   "metadata": {
    "execution": {
     "iopub.execute_input": "2021-08-13T13:30:29.829195Z",
     "iopub.status.busy": "2021-08-13T13:30:29.828477Z",
     "iopub.status.idle": "2021-08-13T13:30:29.832009Z",
     "shell.execute_reply": "2021-08-13T13:30:29.831161Z",
     "shell.execute_reply.started": "2021-08-12T07:28:00.30205Z"
    },
    "papermill": {
     "duration": 0.269173,
     "end_time": "2021-08-13T13:30:29.832194",
     "exception": false,
     "start_time": "2021-08-13T13:30:29.563021",
     "status": "completed"
    },
    "tags": []
   },
   "outputs": [
    {
     "name": "stdout",
     "output_type": "stream",
     "text": [
      "oob score: 81.71000000000001 %\n"
     ]
    }
   ],
   "source": [
    "print(\"oob score:\", round(random_forest.oob_score_, 4) * 100, '%')"
   ]
  },
  {
   "cell_type": "markdown",
   "id": "2caa7702",
   "metadata": {
    "papermill": {
     "duration": 0.250679,
     "end_time": "2021-08-13T13:30:30.854727",
     "exception": false,
     "start_time": "2021-08-13T13:30:30.604048",
     "status": "completed"
    },
    "tags": []
   },
   "source": [
    "### __Hyperparameter Tuning__"
   ]
  },
  {
   "cell_type": "markdown",
   "id": "b39cdc63",
   "metadata": {
    "papermill": {
     "duration": 0.253459,
     "end_time": "2021-08-13T13:30:33.887419",
     "exception": false,
     "start_time": "2021-08-13T13:30:33.633960",
     "status": "completed"
    },
    "tags": []
   },
   "source": [
    "__Test new Parameters:__"
   ]
  },
  {
   "cell_type": "code",
   "execution_count": 41,
   "id": "d34379a1",
   "metadata": {
    "execution": {
     "iopub.execute_input": "2021-08-13T13:30:34.450556Z",
     "iopub.status.busy": "2021-08-13T13:30:34.413605Z",
     "iopub.status.idle": "2021-08-13T13:30:35.049491Z",
     "shell.execute_reply": "2021-08-13T13:30:35.048798Z",
     "shell.execute_reply.started": "2021-08-12T07:28:00.325456Z"
    },
    "papermill": {
     "duration": 0.900743,
     "end_time": "2021-08-13T13:30:35.049769",
     "exception": false,
     "start_time": "2021-08-13T13:30:34.149026",
     "status": "completed"
    },
    "tags": []
   },
   "outputs": [
    {
     "name": "stdout",
     "output_type": "stream",
     "text": [
      "oob score: 82.94 %\n"
     ]
    }
   ],
   "source": [
    "random_forest = RandomForestClassifier(criterion= 'gini', min_samples_leaf= 1, min_samples_split= 10,\n",
    "                                       n_estimators= 100, max_features='sqrt', oob_score= True,\n",
    "                                       random_state= 1, n_jobs= -1)\n",
    "random_forest.fit(X_train, Y_train)\n",
    "Y_prediction = random_forest.predict(X_Test)\n",
    "\n",
    "import pickle\n",
    "with open('random_forest.pkl', 'wb') as f:\n",
    "    pickle.dump(random_forest, f)\n",
    "\n",
    "random_forest.score(X_train, Y_train)\n",
    "\n",
    "print(\"oob score:\", round(random_forest.oob_score_, 4)*100, \"%\")"
   ]
  },
  {
   "cell_type": "markdown",
   "id": "14c0d726",
   "metadata": {
    "papermill": {
     "duration": 0.252046,
     "end_time": "2021-08-13T13:30:36.583858",
     "exception": false,
     "start_time": "2021-08-13T13:30:36.331812",
     "status": "completed"
    },
    "tags": []
   },
   "source": [
    "### __Confusion Matrix:__"
   ]
  },
  {
   "cell_type": "code",
   "execution_count": 42,
   "id": "845640c5",
   "metadata": {
    "execution": {
     "iopub.execute_input": "2021-08-13T13:30:37.094630Z",
     "iopub.status.busy": "2021-08-13T13:30:37.093605Z",
     "iopub.status.idle": "2021-08-13T13:30:38.320575Z",
     "shell.execute_reply": "2021-08-13T13:30:38.321060Z",
     "shell.execute_reply.started": "2021-08-12T07:28:00.976232Z"
    },
    "papermill": {
     "duration": 1.486006,
     "end_time": "2021-08-13T13:30:38.321227",
     "exception": false,
     "start_time": "2021-08-13T13:30:36.835221",
     "status": "completed"
    },
    "tags": []
   },
   "outputs": [
    {
     "data": {
      "image/png": "[encoded data removed]",
      "text/plain": [
       "<Figure size 800x600 with 2 Axes>"
      ]
     },
     "metadata": {},
     "output_type": "display_data"
    }
   ],
   "source": [
    "from sklearn.model_selection import cross_val_predict\n",
    "from sklearn.metrics import confusion_matrix\n",
    "\n",
    "predictions = cross_val_predict(random_forest, X_train, Y_train, cv= 3)\n",
    "cm=confusion_matrix(Y_train, predictions)\n",
    "plt.figure(figsize=(8, 6))\n",
    "sns.heatmap(cm, annot=True, fmt='d', cmap='Blues')\n",
    "plt.xlabel('Predicted')\n",
    "plt.ylabel('True')\n",
    "plt.title('Confusion Matrix')\n",
    "plt.show()"
   ]
  },
  {
   "cell_type": "markdown",
   "id": "bf7389ea",
   "metadata": {
    "papermill": {
     "duration": 0.252175,
     "end_time": "2021-08-13T13:30:39.634989",
     "exception": false,
     "start_time": "2021-08-13T13:30:39.382814",
     "status": "completed"
    },
    "tags": []
   },
   "source": [
    "### __Precision, Recall and F-Score:__"
   ]
  },
  {
   "cell_type": "code",
   "execution_count": 43,
   "id": "827e3e5f",
   "metadata": {
    "execution": {
     "iopub.execute_input": "2021-08-13T13:30:40.147685Z",
     "iopub.status.busy": "2021-08-13T13:30:40.146663Z",
     "iopub.status.idle": "2021-08-13T13:30:40.156605Z",
     "shell.execute_reply": "2021-08-13T13:30:40.155963Z"
    },
    "papermill": {
     "duration": 0.269839,
     "end_time": "2021-08-13T13:30:40.156749",
     "exception": false,
     "start_time": "2021-08-13T13:30:39.886910",
     "status": "completed"
    },
    "tags": []
   },
   "outputs": [
    {
     "name": "stdout",
     "output_type": "stream",
     "text": [
      "Precision: 0.8133333333333334\n",
      "Recall: 0.7134502923976608\n",
      "F1-Score: 0.7601246105919003\n"
     ]
    }
   ],
   "source": [
    "from sklearn.metrics import precision_score, recall_score, f1_score, classification_report\n",
    "\n",
    "print(\"Precision:\", precision_score(Y_train, predictions))\n",
    "print(\"Recall:\",recall_score(Y_train, predictions))\n",
    "print(\"F1-Score:\", f1_score(Y_train, predictions))"
   ]
  },
  {
   "cell_type": "markdown",
   "id": "39b5a7fc",
   "metadata": {
    "papermill": {
     "duration": 0.256911,
     "end_time": "2021-08-13T13:30:42.196789",
     "exception": false,
     "start_time": "2021-08-13T13:30:41.939878",
     "status": "completed"
    },
    "tags": []
   },
   "source": [
    "### __Precision Recall Curve__"
   ]
  },
  {
   "cell_type": "code",
   "execution_count": 44,
   "id": "76a5af51",
   "metadata": {
    "execution": {
     "iopub.execute_input": "2021-08-13T13:30:43.224276Z",
     "iopub.status.busy": "2021-08-13T13:30:43.223303Z",
     "iopub.status.idle": "2021-08-13T13:30:43.490576Z",
     "shell.execute_reply": "2021-08-13T13:30:43.489931Z"
    },
    "papermill": {
     "duration": 0.534184,
     "end_time": "2021-08-13T13:30:43.490718",
     "exception": false,
     "start_time": "2021-08-13T13:30:42.956534",
     "status": "completed"
    },
    "tags": []
   },
   "outputs": [
    {
     "data": {
      "image/png": "[encoded data removed]",
      "text/plain": [
       "<Figure size 1400x700 with 1 Axes>"
      ]
     },
     "metadata": {},
     "output_type": "display_data"
    }
   ],
   "source": [
    "from sklearn.metrics import precision_recall_curve\n",
    "\n",
    "# getting the probabilities of our predictions\n",
    "y_scores = random_forest.predict_proba(X_train)\n",
    "y_scores = y_scores[:,1]\n",
    "\n",
    "precision, recall, threshold = precision_recall_curve(Y_train, y_scores)\n",
    "\n",
    "def plot_precision_and_recall(precision, recall, threshold):\n",
    "    plt.plot(threshold, precision[:-1], \"r-\", label=\"precision\", linewidth=5)\n",
    "    plt.plot(threshold, recall[:-1], \"b\", label=\"recall\", linewidth=5)\n",
    "    plt.xlabel(\"threshold\", fontsize=19)\n",
    "    plt.legend(loc=\"upper right\", fontsize=19)\n",
    "    plt.ylim([0, 1])\n",
    "\n",
    "plt.figure(figsize=(14, 7))\n",
    "plot_precision_and_recall(precision, recall, threshold)\n",
    "plt.show()"
   ]
  },
  {
   "cell_type": "code",
   "execution_count": 45,
   "id": "e6bd0077",
   "metadata": {
    "execution": {
     "iopub.execute_input": "2021-08-13T13:30:45.650199Z",
     "iopub.status.busy": "2021-08-13T13:30:45.642908Z",
     "iopub.status.idle": "2021-08-13T13:30:45.787454Z",
     "shell.execute_reply": "2021-08-13T13:30:45.786905Z"
    },
    "papermill": {
     "duration": 0.420271,
     "end_time": "2021-08-13T13:30:45.787614",
     "exception": false,
     "start_time": "2021-08-13T13:30:45.367343",
     "status": "completed"
    },
    "tags": []
   },
   "outputs": [
    {
     "data": {
      "image/png": "[encoded data removed]",
      "text/plain": [
       "<Figure size 1400x700 with 1 Axes>"
      ]
     },
     "metadata": {},
     "output_type": "display_data"
    }
   ],
   "source": [
    "def plot_precision_vs_recall(precision, recall):\n",
    "    plt.plot(recall, precision, \"g--\", linewidth=2.5)\n",
    "    plt.ylabel(\"recall\", fontsize=19)\n",
    "    plt.xlabel(\"precision\", fontsize=19)\n",
    "    plt.axis([0, 1.5, 0, 1.5])\n",
    "\n",
    "plt.figure(figsize=(14, 7))\n",
    "plot_precision_vs_recall(precision, recall)\n",
    "plt.show()"
   ]
  },
  {
   "cell_type": "markdown",
   "id": "457e8466",
   "metadata": {
    "papermill": {
     "duration": 0.285755,
     "end_time": "2021-08-13T13:30:46.329992",
     "exception": false,
     "start_time": "2021-08-13T13:30:46.044237",
     "status": "completed"
    },
    "tags": []
   },
   "source": [
    "### __ROC AUC Curve__"
   ]
  },
  {
   "cell_type": "code",
   "execution_count": 46,
   "id": "0424e9f4",
   "metadata": {
    "execution": {
     "iopub.execute_input": "2021-08-13T13:30:47.363738Z",
     "iopub.status.busy": "2021-08-13T13:30:47.363011Z",
     "iopub.status.idle": "2021-08-13T13:30:47.512821Z",
     "shell.execute_reply": "2021-08-13T13:30:47.513298Z"
    },
    "papermill": {
     "duration": 0.415376,
     "end_time": "2021-08-13T13:30:47.513474",
     "exception": false,
     "start_time": "2021-08-13T13:30:47.098098",
     "status": "completed"
    },
    "tags": []
   },
   "outputs": [
    {
     "data": {
      "image/png": "[encoded data removed]",
      "text/plain": [
       "<Figure size 1400x700 with 1 Axes>"
      ]
     },
     "metadata": {},
     "output_type": "display_data"
    }
   ],
   "source": [
    "from sklearn.metrics import roc_curve\n",
    "# compute true positive rate and false positive rate\n",
    "false_positive_rate, true_positive_rate, thresholds = roc_curve(Y_train, y_scores)# plotting them against each other\n",
    "def plot_roc_curve(false_positive_rate, true_positive_rate, label=None):\n",
    "    plt.plot(false_positive_rate, true_positive_rate, linewidth=2, label=label)\n",
    "    plt.plot([0, 1], [0, 1], 'r', linewidth=4)\n",
    "    plt.axis([0, 1, 0, 1])\n",
    "    plt.xlabel('False Positive Rate (FPR)', fontsize=16)\n",
    "    plt.ylabel('True Positive Rate (TPR)', fontsize=16)\n",
    "\n",
    "plt.figure(figsize=(14, 7))\n",
    "plot_roc_curve(false_positive_rate, true_positive_rate)\n",
    "plt.show()"
   ]
  },
  {
   "cell_type": "markdown",
   "id": "2eedc84a",
   "metadata": {
    "papermill": {
     "duration": 0.260668,
     "end_time": "2021-08-13T13:30:48.030691",
     "exception": false,
     "start_time": "2021-08-13T13:30:47.770023",
     "status": "completed"
    },
    "tags": []
   },
   "source": [
    "### __ROC AUC Score__"
   ]
  },
  {
   "cell_type": "code",
   "execution_count": 47,
   "id": "c7f1fd2b",
   "metadata": {
    "execution": {
     "iopub.execute_input": "2021-08-13T13:30:49.066567Z",
     "iopub.status.busy": "2021-08-13T13:30:49.065868Z",
     "iopub.status.idle": "2021-08-13T13:30:49.071328Z",
     "shell.execute_reply": "2021-08-13T13:30:49.071783Z"
    },
    "papermill": {
     "duration": 0.269284,
     "end_time": "2021-08-13T13:30:49.071967",
     "exception": false,
     "start_time": "2021-08-13T13:30:48.802683",
     "status": "completed"
    },
    "tags": []
   },
   "outputs": [
    {
     "name": "stdout",
     "output_type": "stream",
     "text": [
      "ROC-AUC-Score: 0.9446122135940946\n"
     ]
    }
   ],
   "source": [
    "from sklearn.metrics import roc_auc_score\n",
    "r_a_score = roc_auc_score(Y_train, y_scores)\n",
    "print(\"ROC-AUC-Score:\", r_a_score)"
   ]
  },
  {
   "cell_type": "code",
   "execution_count": 48,
   "id": "cbe3b689",
   "metadata": {},
   "outputs": [],
   "source": [
    "# import pickle\n",
    "# with open('random_forest.pkl', 'wb') as f:\n",
    "#     pickle.dump(random_forest, f)"
   ]
  }
 ],
 "metadata": {
  "kernelspec": {
   "display_name": "Python 3",
   "language": "python",
   "name": "python3"
  },
  "language_info": {
   "codemirror_mode": {
    "name": "ipython",
    "version": 3
   },
   "file_extension": ".py",
   "mimetype": "text/x-python",
   "name": "python",
   "nbconvert_exporter": "python",
   "pygments_lexer": "ipython3",
   "version": "3.11.8"
  },
  "papermill": {
   "default_parameters": {},
   "duration": 127.464587,
   "end_time": "2021-08-13T13:30:54.240917",
   "environment_variables": {},
   "exception": null,
   "input_path": "__notebook__.ipynb",
   "output_path": "__notebook__.ipynb",
   "parameters": {},
   "start_time": "2021-08-13T13:28:46.776330",
   "version": "2.3.3"
  },
  "widgets": {
   "application/vnd.jupyter.widget-state+json": {
    "state": {
     "10ee1aa96fd8445381457f9875811c34": {
      "model_module": "@jupyter-widgets/base",
      "model_module_version": "1.2.0",
      "model_name": "LayoutModel",
      "state": {
       "_model_module": "@jupyter-widgets/base",
       "_model_module_version": "1.2.0",
       "_model_name": "LayoutModel",
       "_view_count": null,
       "_view_module": "@jupyter-widgets/base",
       "_view_module_version": "1.2.0",
       "_view_name": "LayoutView",
       "align_content": null,
       "align_items": null,
       "align_self": null,
       "border": null,
       "bottom": null,
       "display": null,
       "flex": null,
       "flex_flow": null,
       "grid_area": null,
       "grid_auto_columns": null,
       "grid_auto_flow": null,
       "grid_auto_rows": null,
       "grid_column": null,
       "grid_gap": null,
       "grid_row": null,
       "grid_template_areas": null,
       "grid_template_columns": null,
       "grid_template_rows": null,
       "height": null,
       "justify_content": null,
       "justify_items": null,
       "left": null,
       "margin": null,
       "max_height": null,
       "max_width": null,
       "min_height": null,
       "min_width": null,
       "object_fit": null,
       "object_position": null,
       "order": null,
       "overflow": null,
       "overflow_x": null,
       "overflow_y": null,
       "padding": null,
       "right": null,
       "top": null,
       "visibility": null,
       "width": null
      }
     },
     "17acb1daca53450899c1155fd11b8c05": {
      "model_module": "@jupyter-widgets/controls",
      "model_module_version": "1.5.0",
      "model_name": "HBoxModel",
      "state": {
       "_dom_classes": [],
       "_model_module": "@jupyter-widgets/controls",
       "_model_module_version": "1.5.0",
       "_model_name": "HBoxModel",
       "_view_count": null,
       "_view_module": "@jupyter-widgets/controls",
       "_view_module_version": "1.5.0",
       "_view_name": "HBoxView",
       "box_style": "",
       "children": [
        "IPY_MODEL_fc1421a0ba884bb0b5f239996d634245",
        "IPY_MODEL_fb8638ac19064aef8c4b2d64b40a93bc",
        "IPY_MODEL_fb21f0bfd49a41c89fea75e52897376c"
       ],
       "layout": "IPY_MODEL_fa47ce1733bc4583b51199bea6d48965"
      }
     },
     "1ac4e1a7d6ae4801b0ce56cab96db866": {
      "model_module": "@jupyter-widgets/base",
      "model_module_version": "1.2.0",
      "model_name": "LayoutModel",
      "state": {
       "_model_module": "@jupyter-widgets/base",
       "_model_module_version": "1.2.0",
       "_model_name": "LayoutModel",
       "_view_count": null,
       "_view_module": "@jupyter-widgets/base",
       "_view_module_version": "1.2.0",
       "_view_name": "LayoutView",
       "align_content": null,
       "align_items": null,
       "align_self": null,
       "border": null,
       "bottom": null,
       "display": null,
       "flex": null,
       "flex_flow": null,
       "grid_area": null,
       "grid_auto_columns": null,
       "grid_auto_flow": null,
       "grid_auto_rows": null,
       "grid_column": null,
       "grid_gap": null,
       "grid_row": null,
       "grid_template_areas": null,
       "grid_template_columns": null,
       "grid_template_rows": null,
       "height": null,
       "justify_content": null,
       "justify_items": null,
       "left": null,
       "margin": null,
       "max_height": null,
       "max_width": null,
       "min_height": null,
       "min_width": null,
       "object_fit": null,
       "object_position": null,
       "order": null,
       "overflow": null,
       "overflow_x": null,
       "overflow_y": null,
       "padding": null,
       "right": null,
       "top": null,
       "visibility": null,
       "width": null
      }
     },
     "1cde08f27add407f9195c4486fbd3aa4": {
      "model_module": "@jupyter-widgets/base",
      "model_module_version": "1.2.0",
      "model_name": "LayoutModel",
      "state": {
       "_model_module": "@jupyter-widgets/base",
       "_model_module_version": "1.2.0",
       "_model_name": "LayoutModel",
       "_view_count": null,
       "_view_module": "@jupyter-widgets/base",
       "_view_module_version": "1.2.0",
       "_view_name": "LayoutView",
       "align_content": null,
       "align_items": null,
       "align_self": null,
       "border": null,
       "bottom": null,
       "display": null,
       "flex": null,
       "flex_flow": null,
       "grid_area": null,
       "grid_auto_columns": null,
       "grid_auto_flow": null,
       "grid_auto_rows": null,
       "grid_column": null,
       "grid_gap": null,
       "grid_row": null,
       "grid_template_areas": null,
       "grid_template_columns": null,
       "grid_template_rows": null,
       "height": null,
       "justify_content": null,
       "justify_items": null,
       "left": null,
       "margin": null,
       "max_height": null,
       "max_width": null,
       "min_height": null,
       "min_width": null,
       "object_fit": null,
       "object_position": null,
       "order": null,
       "overflow": null,
       "overflow_x": null,
       "overflow_y": null,
       "padding": null,
       "right": null,
       "top": null,
       "visibility": null,
       "width": null
      }
     },
     "25e28152ae464e52813325e2e5e14e9d": {
      "model_module": "@jupyter-widgets/controls",
      "model_module_version": "1.5.0",
      "model_name": "ProgressStyleModel",
      "state": {
       "_model_module": "@jupyter-widgets/controls",
       "_model_module_version": "1.5.0",
       "_model_name": "ProgressStyleModel",
       "_view_count": null,
       "_view_module": "@jupyter-widgets/base",
       "_view_module_version": "1.2.0",
       "_view_name": "StyleView",
       "bar_color": null,
       "description_width": ""
      }
     },
     "26b412018818497e86f1391d0778ed4a": {
      "model_module": "@jupyter-widgets/base",
      "model_module_version": "1.2.0",
      "model_name": "LayoutModel",
      "state": {
       "_model_module": "@jupyter-widgets/base",
       "_model_module_version": "1.2.0",
       "_model_name": "LayoutModel",
       "_view_count": null,
       "_view_module": "@jupyter-widgets/base",
       "_view_module_version": "1.2.0",
       "_view_name": "LayoutView",
       "align_content": null,
       "align_items": null,
       "align_self": null,
       "border": null,
       "bottom": null,
       "display": null,
       "flex": null,
       "flex_flow": null,
       "grid_area": null,
       "grid_auto_columns": null,
       "grid_auto_flow": null,
       "grid_auto_rows": null,
       "grid_column": null,
       "grid_gap": null,
       "grid_row": null,
       "grid_template_areas": null,
       "grid_template_columns": null,
       "grid_template_rows": null,
       "height": null,
       "justify_content": null,
       "justify_items": null,
       "left": null,
       "margin": null,
       "max_height": null,
       "max_width": null,
       "min_height": null,
       "min_width": null,
       "object_fit": null,
       "object_position": null,
       "order": null,
       "overflow": null,
       "overflow_x": null,
       "overflow_y": null,
       "padding": null,
       "right": null,
       "top": null,
       "visibility": null,
       "width": null
      }
     },
     "3058e1b221504fc4a96bf2ab6248a9bc": {
      "model_module": "@jupyter-widgets/base",
      "model_module_version": "1.2.0",
      "model_name": "LayoutModel",
      "state": {
       "_model_module": "@jupyter-widgets/base",
       "_model_module_version": "1.2.0",
       "_model_name": "LayoutModel",
       "_view_count": null,
       "_view_module": "@jupyter-widgets/base",
       "_view_module_version": "1.2.0",
       "_view_name": "LayoutView",
       "align_content": null,
       "align_items": null,
       "align_self": null,
       "border": null,
       "bottom": null,
       "display": null,
       "flex": null,
       "flex_flow": null,
       "grid_area": null,
       "grid_auto_columns": null,
       "grid_auto_flow": null,
       "grid_auto_rows": null,
       "grid_column": null,
       "grid_gap": null,
       "grid_row": null,
       "grid_template_areas": null,
       "grid_template_columns": null,
       "grid_template_rows": null,
       "height": null,
       "justify_content": null,
       "justify_items": null,
       "left": null,
       "margin": null,
       "max_height": null,
       "max_width": null,
       "min_height": null,
       "min_width": null,
       "object_fit": null,
       "object_position": null,
       "order": null,
       "overflow": null,
       "overflow_x": null,
       "overflow_y": null,
       "padding": null,
       "right": null,
       "top": null,
       "visibility": null,
       "width": null
      }
     },
     "4ee16804a9da457da38fa6223f7b958c": {
      "model_module": "@jupyter-widgets/controls",
      "model_module_version": "1.5.0",
      "model_name": "DescriptionStyleModel",
      "state": {
       "_model_module": "@jupyter-widgets/controls",
       "_model_module_version": "1.5.0",
       "_model_name": "DescriptionStyleModel",
       "_view_count": null,
       "_view_module": "@jupyter-widgets/base",
       "_view_module_version": "1.2.0",
       "_view_name": "StyleView",
       "description_width": ""
      }
     },
     "53ebac14806a417bbbad6aeb955bd2fa": {
      "model_module": "@jupyter-widgets/controls",
      "model_module_version": "1.5.0",
      "model_name": "HTMLModel",
      "state": {
       "_dom_classes": [],
       "_model_module": "@jupyter-widgets/controls",
       "_model_module_version": "1.5.0",
       "_model_name": "HTMLModel",
       "_view_count": null,
       "_view_module": "@jupyter-widgets/controls",
       "_view_module_version": "1.5.0",
       "_view_name": "HTMLView",
       "description": "",
       "description_tooltip": null,
       "layout": "IPY_MODEL_bf022ec2205142428138b321c2926710",
       "placeholder": "​",
       "style": "IPY_MODEL_4ee16804a9da457da38fa6223f7b958c",
       "value": "Generate report structure: 100%"
      }
     },
     "57d946ba6a444d68833e8758b4411a66": {
      "model_module": "@jupyter-widgets/controls",
      "model_module_version": "1.5.0",
      "model_name": "ProgressStyleModel",
      "state": {
       "_model_module": "@jupyter-widgets/controls",
       "_model_module_version": "1.5.0",
       "_model_name": "ProgressStyleModel",
       "_view_count": null,
       "_view_module": "@jupyter-widgets/base",
       "_view_module_version": "1.2.0",
       "_view_name": "StyleView",
       "bar_color": null,
       "description_width": ""
      }
     },
     "5dd8364e32a244d29bf38cb1b918aa4a": {
      "model_module": "@jupyter-widgets/controls",
      "model_module_version": "1.5.0",
      "model_name": "ProgressStyleModel",
      "state": {
       "_model_module": "@jupyter-widgets/controls",
       "_model_module_version": "1.5.0",
       "_model_name": "ProgressStyleModel",
       "_view_count": null,
       "_view_module": "@jupyter-widgets/base",
       "_view_module_version": "1.2.0",
       "_view_name": "StyleView",
       "bar_color": null,
       "description_width": ""
      }
     },
     "68c1db1b8f354c80acca3ac894969bc2": {
      "model_module": "@jupyter-widgets/controls",
      "model_module_version": "1.5.0",
      "model_name": "HBoxModel",
      "state": {
       "_dom_classes": [],
       "_model_module": "@jupyter-widgets/controls",
       "_model_module_version": "1.5.0",
       "_model_name": "HBoxModel",
       "_view_count": null,
       "_view_module": "@jupyter-widgets/controls",
       "_view_module_version": "1.5.0",
       "_view_name": "HBoxView",
       "box_style": "",
       "children": [
        "IPY_MODEL_53ebac14806a417bbbad6aeb955bd2fa",
        "IPY_MODEL_e53a2ca332e0452db7bbf57e52788fd5",
        "IPY_MODEL_882f2c73c1f04dda9aedc38ffaf3359e"
       ],
       "layout": "IPY_MODEL_a48b81c579e7460388c54b0b431173e4"
      }
     },
     "827f2771ca9c423a92f9564841d607e5": {
      "model_module": "@jupyter-widgets/base",
      "model_module_version": "1.2.0",
      "model_name": "LayoutModel",
      "state": {
       "_model_module": "@jupyter-widgets/base",
       "_model_module_version": "1.2.0",
       "_model_name": "LayoutModel",
       "_view_count": null,
       "_view_module": "@jupyter-widgets/base",
       "_view_module_version": "1.2.0",
       "_view_name": "LayoutView",
       "align_content": null,
       "align_items": null,
       "align_self": null,
       "border": null,
       "bottom": null,
       "display": null,
       "flex": null,
       "flex_flow": null,
       "grid_area": null,
       "grid_auto_columns": null,
       "grid_auto_flow": null,
       "grid_auto_rows": null,
       "grid_column": null,
       "grid_gap": null,
       "grid_row": null,
       "grid_template_areas": null,
       "grid_template_columns": null,
       "grid_template_rows": null,
       "height": null,
       "justify_content": null,
       "justify_items": null,
       "left": null,
       "margin": null,
       "max_height": null,
       "max_width": null,
       "min_height": null,
       "min_width": null,
       "object_fit": null,
       "object_position": null,
       "order": null,
       "overflow": null,
       "overflow_x": null,
       "overflow_y": null,
       "padding": null,
       "right": null,
       "top": null,
       "visibility": null,
       "width": null
      }
     },
     "882f2c73c1f04dda9aedc38ffaf3359e": {
      "model_module": "@jupyter-widgets/controls",
      "model_module_version": "1.5.0",
      "model_name": "HTMLModel",
      "state": {
       "_dom_classes": [],
       "_model_module": "@jupyter-widgets/controls",
       "_model_module_version": "1.5.0",
       "_model_name": "HTMLModel",
       "_view_count": null,
       "_view_module": "@jupyter-widgets/controls",
       "_view_module_version": "1.5.0",
       "_view_name": "HTMLView",
       "description": "",
       "description_tooltip": null,
       "layout": "IPY_MODEL_d0d107b7d1364df0beddf9b813dde5f9",
       "placeholder": "​",
       "style": "IPY_MODEL_8e44842b893b49c2bf2ad5adef770f9c",
       "value": " 1/1 [00:06&lt;00:00,  6.61s/it]"
      }
     },
     "895de486bc72462381f51b5ffae26efc": {
      "model_module": "@jupyter-widgets/controls",
      "model_module_version": "1.5.0",
      "model_name": "DescriptionStyleModel",
      "state": {
       "_model_module": "@jupyter-widgets/controls",
       "_model_module_version": "1.5.0",
       "_model_name": "DescriptionStyleModel",
       "_view_count": null,
       "_view_module": "@jupyter-widgets/base",
       "_view_module_version": "1.2.0",
       "_view_name": "StyleView",
       "description_width": ""
      }
     },
     "8e44842b893b49c2bf2ad5adef770f9c": {
      "model_module": "@jupyter-widgets/controls",
      "model_module_version": "1.5.0",
      "model_name": "DescriptionStyleModel",
      "state": {
       "_model_module": "@jupyter-widgets/controls",
       "_model_module_version": "1.5.0",
       "_model_name": "DescriptionStyleModel",
       "_view_count": null,
       "_view_module": "@jupyter-widgets/base",
       "_view_module_version": "1.2.0",
       "_view_name": "StyleView",
       "description_width": ""
      }
     },
     "90619274d0bc45fbbfb0e80ad20ca947": {
      "model_module": "@jupyter-widgets/controls",
      "model_module_version": "1.5.0",
      "model_name": "DescriptionStyleModel",
      "state": {
       "_model_module": "@jupyter-widgets/controls",
       "_model_module_version": "1.5.0",
       "_model_name": "DescriptionStyleModel",
       "_view_count": null,
       "_view_module": "@jupyter-widgets/base",
       "_view_module_version": "1.2.0",
       "_view_name": "StyleView",
       "description_width": ""
      }
     },
     "91f315f53d5242d48846b722b3bc94b3": {
      "model_module": "@jupyter-widgets/controls",
      "model_module_version": "1.5.0",
      "model_name": "HBoxModel",
      "state": {
       "_dom_classes": [],
       "_model_module": "@jupyter-widgets/controls",
       "_model_module_version": "1.5.0",
       "_model_name": "HBoxModel",
       "_view_count": null,
       "_view_module": "@jupyter-widgets/controls",
       "_view_module_version": "1.5.0",
       "_view_name": "HBoxView",
       "box_style": "",
       "children": [
        "IPY_MODEL_d9fe6e73a16244049c2d916fde75da8b",
        "IPY_MODEL_df5d2c9fae25459587d0e0225f056105",
        "IPY_MODEL_9c3ee807bda945fa925b042d79fb00b2"
       ],
       "layout": "IPY_MODEL_827f2771ca9c423a92f9564841d607e5"
      }
     },
     "9c3ee807bda945fa925b042d79fb00b2": {
      "model_module": "@jupyter-widgets/controls",
      "model_module_version": "1.5.0",
      "model_name": "HTMLModel",
      "state": {
       "_dom_classes": [],
       "_model_module": "@jupyter-widgets/controls",
       "_model_module_version": "1.5.0",
       "_model_name": "HTMLModel",
       "_view_count": null,
       "_view_module": "@jupyter-widgets/controls",
       "_view_module_version": "1.5.0",
       "_view_name": "HTMLView",
       "description": "",
       "description_tooltip": null,
       "layout": "IPY_MODEL_10ee1aa96fd8445381457f9875811c34",
       "placeholder": "​",
       "style": "IPY_MODEL_e64a738b71e043d6ba25ac2c2d4d3b23",
       "value": " 25/25 [00:10&lt;00:00,  1.34it/s, Completed]"
      }
     },
     "a48b81c579e7460388c54b0b431173e4": {
      "model_module": "@jupyter-widgets/base",
      "model_module_version": "1.2.0",
      "model_name": "LayoutModel",
      "state": {
       "_model_module": "@jupyter-widgets/base",
       "_model_module_version": "1.2.0",
       "_model_name": "LayoutModel",
       "_view_count": null,
       "_view_module": "@jupyter-widgets/base",
       "_view_module_version": "1.2.0",
       "_view_name": "LayoutView",
       "align_content": null,
       "align_items": null,
       "align_self": null,
       "border": null,
       "bottom": null,
       "display": null,
       "flex": null,
       "flex_flow": null,
       "grid_area": null,
       "grid_auto_columns": null,
       "grid_auto_flow": null,
       "grid_auto_rows": null,
       "grid_column": null,
       "grid_gap": null,
       "grid_row": null,
       "grid_template_areas": null,
       "grid_template_columns": null,
       "grid_template_rows": null,
       "height": null,
       "justify_content": null,
       "justify_items": null,
       "left": null,
       "margin": null,
       "max_height": null,
       "max_width": null,
       "min_height": null,
       "min_width": null,
       "object_fit": null,
       "object_position": null,
       "order": null,
       "overflow": null,
       "overflow_x": null,
       "overflow_y": null,
       "padding": null,
       "right": null,
       "top": null,
       "visibility": null,
       "width": null
      }
     },
     "b83f8331de904e4e9aa8f8ac4f15ccf0": {
      "model_module": "@jupyter-widgets/base",
      "model_module_version": "1.2.0",
      "model_name": "LayoutModel",
      "state": {
       "_model_module": "@jupyter-widgets/base",
       "_model_module_version": "1.2.0",
       "_model_name": "LayoutModel",
       "_view_count": null,
       "_view_module": "@jupyter-widgets/base",
       "_view_module_version": "1.2.0",
       "_view_name": "LayoutView",
       "align_content": null,
       "align_items": null,
       "align_self": null,
       "border": null,
       "bottom": null,
       "display": null,
       "flex": null,
       "flex_flow": null,
       "grid_area": null,
       "grid_auto_columns": null,
       "grid_auto_flow": null,
       "grid_auto_rows": null,
       "grid_column": null,
       "grid_gap": null,
       "grid_row": null,
       "grid_template_areas": null,
       "grid_template_columns": null,
       "grid_template_rows": null,
       "height": null,
       "justify_content": null,
       "justify_items": null,
       "left": null,
       "margin": null,
       "max_height": null,
       "max_width": null,
       "min_height": null,
       "min_width": null,
       "object_fit": null,
       "object_position": null,
       "order": null,
       "overflow": null,
       "overflow_x": null,
       "overflow_y": null,
       "padding": null,
       "right": null,
       "top": null,
       "visibility": null,
       "width": null
      }
     },
     "bf022ec2205142428138b321c2926710": {
      "model_module": "@jupyter-widgets/base",
      "model_module_version": "1.2.0",
      "model_name": "LayoutModel",
      "state": {
       "_model_module": "@jupyter-widgets/base",
       "_model_module_version": "1.2.0",
       "_model_name": "LayoutModel",
       "_view_count": null,
       "_view_module": "@jupyter-widgets/base",
       "_view_module_version": "1.2.0",
       "_view_name": "LayoutView",
       "align_content": null,
       "align_items": null,
       "align_self": null,
       "border": null,
       "bottom": null,
       "display": null,
       "flex": null,
       "flex_flow": null,
       "grid_area": null,
       "grid_auto_columns": null,
       "grid_auto_flow": null,
       "grid_auto_rows": null,
       "grid_column": null,
       "grid_gap": null,
       "grid_row": null,
       "grid_template_areas": null,
       "grid_template_columns": null,
       "grid_template_rows": null,
       "height": null,
       "justify_content": null,
       "justify_items": null,
       "left": null,
       "margin": null,
       "max_height": null,
       "max_width": null,
       "min_height": null,
       "min_width": null,
       "object_fit": null,
       "object_position": null,
       "order": null,
       "overflow": null,
       "overflow_x": null,
       "overflow_y": null,
       "padding": null,
       "right": null,
       "top": null,
       "visibility": null,
       "width": null
      }
     },
     "d0d107b7d1364df0beddf9b813dde5f9": {
      "model_module": "@jupyter-widgets/base",
      "model_module_version": "1.2.0",
      "model_name": "LayoutModel",
      "state": {
       "_model_module": "@jupyter-widgets/base",
       "_model_module_version": "1.2.0",
       "_model_name": "LayoutModel",
       "_view_count": null,
       "_view_module": "@jupyter-widgets/base",
       "_view_module_version": "1.2.0",
       "_view_name": "LayoutView",
       "align_content": null,
       "align_items": null,
       "align_self": null,
       "border": null,
       "bottom": null,
       "display": null,
       "flex": null,
       "flex_flow": null,
       "grid_area": null,
       "grid_auto_columns": null,
       "grid_auto_flow": null,
       "grid_auto_rows": null,
       "grid_column": null,
       "grid_gap": null,
       "grid_row": null,
       "grid_template_areas": null,
       "grid_template_columns": null,
       "grid_template_rows": null,
       "height": null,
       "justify_content": null,
       "justify_items": null,
       "left": null,
       "margin": null,
       "max_height": null,
       "max_width": null,
       "min_height": null,
       "min_width": null,
       "object_fit": null,
       "object_position": null,
       "order": null,
       "overflow": null,
       "overflow_x": null,
       "overflow_y": null,
       "padding": null,
       "right": null,
       "top": null,
       "visibility": null,
       "width": null
      }
     },
     "d9fe6e73a16244049c2d916fde75da8b": {
      "model_module": "@jupyter-widgets/controls",
      "model_module_version": "1.5.0",
      "model_name": "HTMLModel",
      "state": {
       "_dom_classes": [],
       "_model_module": "@jupyter-widgets/controls",
       "_model_module_version": "1.5.0",
       "_model_name": "HTMLModel",
       "_view_count": null,
       "_view_module": "@jupyter-widgets/controls",
       "_view_module_version": "1.5.0",
       "_view_name": "HTMLView",
       "description": "",
       "description_tooltip": null,
       "layout": "IPY_MODEL_1ac4e1a7d6ae4801b0ce56cab96db866",
       "placeholder": "​",
       "style": "IPY_MODEL_895de486bc72462381f51b5ffae26efc",
       "value": "Summarize dataset: 100%"
      }
     },
     "dd5fd27f9ecb43d9b98d8d7da10d005d": {
      "model_module": "@jupyter-widgets/controls",
      "model_module_version": "1.5.0",
      "model_name": "DescriptionStyleModel",
      "state": {
       "_model_module": "@jupyter-widgets/controls",
       "_model_module_version": "1.5.0",
       "_model_name": "DescriptionStyleModel",
       "_view_count": null,
       "_view_module": "@jupyter-widgets/base",
       "_view_module_version": "1.2.0",
       "_view_name": "StyleView",
       "description_width": ""
      }
     },
     "df5d2c9fae25459587d0e0225f056105": {
      "model_module": "@jupyter-widgets/controls",
      "model_module_version": "1.5.0",
      "model_name": "FloatProgressModel",
      "state": {
       "_dom_classes": [],
       "_model_module": "@jupyter-widgets/controls",
       "_model_module_version": "1.5.0",
       "_model_name": "FloatProgressModel",
       "_view_count": null,
       "_view_module": "@jupyter-widgets/controls",
       "_view_module_version": "1.5.0",
       "_view_name": "ProgressView",
       "bar_style": "success",
       "description": "",
       "description_tooltip": null,
       "layout": "IPY_MODEL_3058e1b221504fc4a96bf2ab6248a9bc",
       "max": 25,
       "min": 0,
       "orientation": "horizontal",
       "style": "IPY_MODEL_25e28152ae464e52813325e2e5e14e9d",
       "value": 25
      }
     },
     "e53a2ca332e0452db7bbf57e52788fd5": {
      "model_module": "@jupyter-widgets/controls",
      "model_module_version": "1.5.0",
      "model_name": "FloatProgressModel",
      "state": {
       "_dom_classes": [],
       "_model_module": "@jupyter-widgets/controls",
       "_model_module_version": "1.5.0",
       "_model_name": "FloatProgressModel",
       "_view_count": null,
       "_view_module": "@jupyter-widgets/controls",
       "_view_module_version": "1.5.0",
       "_view_name": "ProgressView",
       "bar_style": "success",
       "description": "",
       "description_tooltip": null,
       "layout": "IPY_MODEL_b83f8331de904e4e9aa8f8ac4f15ccf0",
       "max": 1,
       "min": 0,
       "orientation": "horizontal",
       "style": "IPY_MODEL_57d946ba6a444d68833e8758b4411a66",
       "value": 1
      }
     },
     "e64a738b71e043d6ba25ac2c2d4d3b23": {
      "model_module": "@jupyter-widgets/controls",
      "model_module_version": "1.5.0",
      "model_name": "DescriptionStyleModel",
      "state": {
       "_model_module": "@jupyter-widgets/controls",
       "_model_module_version": "1.5.0",
       "_model_name": "DescriptionStyleModel",
       "_view_count": null,
       "_view_module": "@jupyter-widgets/base",
       "_view_module_version": "1.2.0",
       "_view_name": "StyleView",
       "description_width": ""
      }
     },
     "fa47ce1733bc4583b51199bea6d48965": {
      "model_module": "@jupyter-widgets/base",
      "model_module_version": "1.2.0",
      "model_name": "LayoutModel",
      "state": {
       "_model_module": "@jupyter-widgets/base",
       "_model_module_version": "1.2.0",
       "_model_name": "LayoutModel",
       "_view_count": null,
       "_view_module": "@jupyter-widgets/base",
       "_view_module_version": "1.2.0",
       "_view_name": "LayoutView",
       "align_content": null,
       "align_items": null,
       "align_self": null,
       "border": null,
       "bottom": null,
       "display": null,
       "flex": null,
       "flex_flow": null,
       "grid_area": null,
       "grid_auto_columns": null,
       "grid_auto_flow": null,
       "grid_auto_rows": null,
       "grid_column": null,
       "grid_gap": null,
       "grid_row": null,
       "grid_template_areas": null,
       "grid_template_columns": null,
       "grid_template_rows": null,
       "height": null,
       "justify_content": null,
       "justify_items": null,
       "left": null,
       "margin": null,
       "max_height": null,
       "max_width": null,
       "min_height": null,
       "min_width": null,
       "object_fit": null,
       "object_position": null,
       "order": null,
       "overflow": null,
       "overflow_x": null,
       "overflow_y": null,
       "padding": null,
       "right": null,
       "top": null,
       "visibility": null,
       "width": null
      }
     },
     "fb21f0bfd49a41c89fea75e52897376c": {
      "model_module": "@jupyter-widgets/controls",
      "model_module_version": "1.5.0",
      "model_name": "HTMLModel",
      "state": {
       "_dom_classes": [],
       "_model_module": "@jupyter-widgets/controls",
       "_model_module_version": "1.5.0",
       "_model_name": "HTMLModel",
       "_view_count": null,
       "_view_module": "@jupyter-widgets/controls",
       "_view_module_version": "1.5.0",
       "_view_name": "HTMLView",
       "description": "",
       "description_tooltip": null,
       "layout": "IPY_MODEL_ff0ff86c854c471694b22fdc524bdf3f",
       "placeholder": "​",
       "style": "IPY_MODEL_dd5fd27f9ecb43d9b98d8d7da10d005d",
       "value": " 1/1 [00:02&lt;00:00,  2.55s/it]"
      }
     },
     "fb8638ac19064aef8c4b2d64b40a93bc": {
      "model_module": "@jupyter-widgets/controls",
      "model_module_version": "1.5.0",
      "model_name": "FloatProgressModel",
      "state": {
       "_dom_classes": [],
       "_model_module": "@jupyter-widgets/controls",
       "_model_module_version": "1.5.0",
       "_model_name": "FloatProgressModel",
       "_view_count": null,
       "_view_module": "@jupyter-widgets/controls",
       "_view_module_version": "1.5.0",
       "_view_name": "ProgressView",
       "bar_style": "success",
       "description": "",
       "description_tooltip": null,
       "layout": "IPY_MODEL_26b412018818497e86f1391d0778ed4a",
       "max": 1,
       "min": 0,
       "orientation": "horizontal",
       "style": "IPY_MODEL_5dd8364e32a244d29bf38cb1b918aa4a",
       "value": 1
      }
     },
     "fc1421a0ba884bb0b5f239996d634245": {
      "model_module": "@jupyter-widgets/controls",
      "model_module_version": "1.5.0",
      "model_name": "HTMLModel",
      "state": {
       "_dom_classes": [],
       "_model_module": "@jupyter-widgets/controls",
       "_model_module_version": "1.5.0",
       "_model_name": "HTMLModel",
       "_view_count": null,
       "_view_module": "@jupyter-widgets/controls",
       "_view_module_version": "1.5.0",
       "_view_name": "HTMLView",
       "description": "",
       "description_tooltip": null,
       "layout": "IPY_MODEL_1cde08f27add407f9195c4486fbd3aa4",
       "placeholder": "​",
       "style": "IPY_MODEL_90619274d0bc45fbbfb0e80ad20ca947",
       "value": "Render HTML: 100%"
      }
     },
     "ff0ff86c854c471694b22fdc524bdf3f": {
      "model_module": "@jupyter-widgets/base",
      "model_module_version": "1.2.0",
      "model_name": "LayoutModel",
      "state": {
       "_model_module": "@jupyter-widgets/base",
       "_model_module_version": "1.2.0",
       "_model_name": "LayoutModel",
       "_view_count": null,
       "_view_module": "@jupyter-widgets/base",
       "_view_module_version": "1.2.0",
       "_view_name": "LayoutView",
       "align_content": null,
       "align_items": null,
       "align_self": null,
       "border": null,
       "bottom": null,
       "display": null,
       "flex": null,
       "flex_flow": null,
       "grid_area": null,
       "grid_auto_columns": null,
       "grid_auto_flow": null,
       "grid_auto_rows": null,
       "grid_column": null,
       "grid_gap": null,
       "grid_row": null,
       "grid_template_areas": null,
       "grid_template_columns": null,
       "grid_template_rows": null,
       "height": null,
       "justify_content": null,
       "justify_items": null,
       "left": null,
       "margin": null,
       "max_height": null,
       "max_width": null,
       "min_height": null,
       "min_width": null,
       "object_fit": null,
       "object_position": null,
       "order": null,
       "overflow": null,
       "overflow_x": null,
       "overflow_y": null,
       "padding": null,
       "right": null,
       "top": null,
       "visibility": null,
       "width": null
      }
     }
    },
    "version_major": 2,
    "version_minor": 0
   }
  }
 },
 "nbformat": 4,
 "nbformat_minor": 5
}
